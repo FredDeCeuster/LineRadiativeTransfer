{
 "cells": [
  {
   "cell_type": "markdown",
   "metadata": {},
   "source": [
    "# vanZadelhoff benchmark: 1a"
   ]
  },
  {
   "cell_type": "markdown",
   "metadata": {},
   "source": [
    "We run the benchmarking problems by van Zadelhoff et al (2002) using Magritte."
   ]
  },
  {
   "cell_type": "markdown",
   "metadata": {},
   "source": [
    "## 0) Setup"
   ]
  },
  {
   "cell_type": "code",
   "execution_count": 1,
   "metadata": {
    "ExecuteTime": {
     "end_time": "2019-01-05T09:51:17.737288Z",
     "start_time": "2019-01-05T09:51:17.733691Z"
    },
    "code_folding": []
   },
   "outputs": [],
   "source": [
    "# Define Magritte folders\n",
    "\n",
    "MagritteSetupFolder = '/home/frederik/Dropbox/Astro/Magritte/modules/setup/'\n",
    "ProjectFolder       = '/home/frederik/MagritteProjects/vanZadelhoff/problem_1/'"
   ]
  },
  {
   "cell_type": "code",
   "execution_count": 2,
   "metadata": {
    "ExecuteTime": {
     "end_time": "2019-01-05T09:51:18.098611Z",
     "start_time": "2019-01-05T09:51:18.079319Z"
    },
    "code_folding": []
   },
   "outputs": [
    {
     "data": {
      "text/html": [
       "\n",
       "    <div class=\"bk-root\">\n",
       "        <a href=\"https://bokeh.pydata.org\" target=\"_blank\" class=\"bk-logo bk-logo-small bk-logo-notebook\"></a>\n",
       "        <span id=\"1001\">Loading BokehJS ...</span>\n",
       "    </div>"
      ]
     },
     "metadata": {},
     "output_type": "display_data"
    },
    {
     "data": {
      "application/javascript": [
       "\n",
       "(function(root) {\n",
       "  function now() {\n",
       "    return new Date();\n",
       "  }\n",
       "\n",
       "  var force = true;\n",
       "\n",
       "  if (typeof (root._bokeh_onload_callbacks) === \"undefined\" || force === true) {\n",
       "    root._bokeh_onload_callbacks = [];\n",
       "    root._bokeh_is_loading = undefined;\n",
       "  }\n",
       "\n",
       "  var JS_MIME_TYPE = 'application/javascript';\n",
       "  var HTML_MIME_TYPE = 'text/html';\n",
       "  var EXEC_MIME_TYPE = 'application/vnd.bokehjs_exec.v0+json';\n",
       "  var CLASS_NAME = 'output_bokeh rendered_html';\n",
       "\n",
       "  /**\n",
       "   * Render data to the DOM node\n",
       "   */\n",
       "  function render(props, node) {\n",
       "    var script = document.createElement(\"script\");\n",
       "    node.appendChild(script);\n",
       "  }\n",
       "\n",
       "  /**\n",
       "   * Handle when an output is cleared or removed\n",
       "   */\n",
       "  function handleClearOutput(event, handle) {\n",
       "    var cell = handle.cell;\n",
       "\n",
       "    var id = cell.output_area._bokeh_element_id;\n",
       "    var server_id = cell.output_area._bokeh_server_id;\n",
       "    // Clean up Bokeh references\n",
       "    if (id != null && id in Bokeh.index) {\n",
       "      Bokeh.index[id].model.document.clear();\n",
       "      delete Bokeh.index[id];\n",
       "    }\n",
       "\n",
       "    if (server_id !== undefined) {\n",
       "      // Clean up Bokeh references\n",
       "      var cmd = \"from bokeh.io.state import curstate; print(curstate().uuid_to_server['\" + server_id + \"'].get_sessions()[0].document.roots[0]._id)\";\n",
       "      cell.notebook.kernel.execute(cmd, {\n",
       "        iopub: {\n",
       "          output: function(msg) {\n",
       "            var id = msg.content.text.trim();\n",
       "            if (id in Bokeh.index) {\n",
       "              Bokeh.index[id].model.document.clear();\n",
       "              delete Bokeh.index[id];\n",
       "            }\n",
       "          }\n",
       "        }\n",
       "      });\n",
       "      // Destroy server and session\n",
       "      var cmd = \"import bokeh.io.notebook as ion; ion.destroy_server('\" + server_id + \"')\";\n",
       "      cell.notebook.kernel.execute(cmd);\n",
       "    }\n",
       "  }\n",
       "\n",
       "  /**\n",
       "   * Handle when a new output is added\n",
       "   */\n",
       "  function handleAddOutput(event, handle) {\n",
       "    var output_area = handle.output_area;\n",
       "    var output = handle.output;\n",
       "\n",
       "    // limit handleAddOutput to display_data with EXEC_MIME_TYPE content only\n",
       "    if ((output.output_type != \"display_data\") || (!output.data.hasOwnProperty(EXEC_MIME_TYPE))) {\n",
       "      return\n",
       "    }\n",
       "\n",
       "    var toinsert = output_area.element.find(\".\" + CLASS_NAME.split(' ')[0]);\n",
       "\n",
       "    if (output.metadata[EXEC_MIME_TYPE][\"id\"] !== undefined) {\n",
       "      toinsert[toinsert.length - 1].firstChild.textContent = output.data[JS_MIME_TYPE];\n",
       "      // store reference to embed id on output_area\n",
       "      output_area._bokeh_element_id = output.metadata[EXEC_MIME_TYPE][\"id\"];\n",
       "    }\n",
       "    if (output.metadata[EXEC_MIME_TYPE][\"server_id\"] !== undefined) {\n",
       "      var bk_div = document.createElement(\"div\");\n",
       "      bk_div.innerHTML = output.data[HTML_MIME_TYPE];\n",
       "      var script_attrs = bk_div.children[0].attributes;\n",
       "      for (var i = 0; i < script_attrs.length; i++) {\n",
       "        toinsert[toinsert.length - 1].firstChild.setAttribute(script_attrs[i].name, script_attrs[i].value);\n",
       "      }\n",
       "      // store reference to server id on output_area\n",
       "      output_area._bokeh_server_id = output.metadata[EXEC_MIME_TYPE][\"server_id\"];\n",
       "    }\n",
       "  }\n",
       "\n",
       "  function register_renderer(events, OutputArea) {\n",
       "\n",
       "    function append_mime(data, metadata, element) {\n",
       "      // create a DOM node to render to\n",
       "      var toinsert = this.create_output_subarea(\n",
       "        metadata,\n",
       "        CLASS_NAME,\n",
       "        EXEC_MIME_TYPE\n",
       "      );\n",
       "      this.keyboard_manager.register_events(toinsert);\n",
       "      // Render to node\n",
       "      var props = {data: data, metadata: metadata[EXEC_MIME_TYPE]};\n",
       "      render(props, toinsert[toinsert.length - 1]);\n",
       "      element.append(toinsert);\n",
       "      return toinsert\n",
       "    }\n",
       "\n",
       "    /* Handle when an output is cleared or removed */\n",
       "    events.on('clear_output.CodeCell', handleClearOutput);\n",
       "    events.on('delete.Cell', handleClearOutput);\n",
       "\n",
       "    /* Handle when a new output is added */\n",
       "    events.on('output_added.OutputArea', handleAddOutput);\n",
       "\n",
       "    /**\n",
       "     * Register the mime type and append_mime function with output_area\n",
       "     */\n",
       "    OutputArea.prototype.register_mime_type(EXEC_MIME_TYPE, append_mime, {\n",
       "      /* Is output safe? */\n",
       "      safe: true,\n",
       "      /* Index of renderer in `output_area.display_order` */\n",
       "      index: 0\n",
       "    });\n",
       "  }\n",
       "\n",
       "  // register the mime type if in Jupyter Notebook environment and previously unregistered\n",
       "  if (root.Jupyter !== undefined) {\n",
       "    var events = require('base/js/events');\n",
       "    var OutputArea = require('notebook/js/outputarea').OutputArea;\n",
       "\n",
       "    if (OutputArea.prototype.mime_types().indexOf(EXEC_MIME_TYPE) == -1) {\n",
       "      register_renderer(events, OutputArea);\n",
       "    }\n",
       "  }\n",
       "\n",
       "  \n",
       "  if (typeof (root._bokeh_timeout) === \"undefined\" || force === true) {\n",
       "    root._bokeh_timeout = Date.now() + 5000;\n",
       "    root._bokeh_failed_load = false;\n",
       "  }\n",
       "\n",
       "  var NB_LOAD_WARNING = {'data': {'text/html':\n",
       "     \"<div style='background-color: #fdd'>\\n\"+\n",
       "     \"<p>\\n\"+\n",
       "     \"BokehJS does not appear to have successfully loaded. If loading BokehJS from CDN, this \\n\"+\n",
       "     \"may be due to a slow or bad network connection. Possible fixes:\\n\"+\n",
       "     \"</p>\\n\"+\n",
       "     \"<ul>\\n\"+\n",
       "     \"<li>re-rerun `output_notebook()` to attempt to load from CDN again, or</li>\\n\"+\n",
       "     \"<li>use INLINE resources instead, as so:</li>\\n\"+\n",
       "     \"</ul>\\n\"+\n",
       "     \"<code>\\n\"+\n",
       "     \"from bokeh.resources import INLINE\\n\"+\n",
       "     \"output_notebook(resources=INLINE)\\n\"+\n",
       "     \"</code>\\n\"+\n",
       "     \"</div>\"}};\n",
       "\n",
       "  function display_loaded() {\n",
       "    var el = document.getElementById(\"1001\");\n",
       "    if (el != null) {\n",
       "      el.textContent = \"BokehJS is loading...\";\n",
       "    }\n",
       "    if (root.Bokeh !== undefined) {\n",
       "      if (el != null) {\n",
       "        el.textContent = \"BokehJS \" + root.Bokeh.version + \" successfully loaded.\";\n",
       "      }\n",
       "    } else if (Date.now() < root._bokeh_timeout) {\n",
       "      setTimeout(display_loaded, 100)\n",
       "    }\n",
       "  }\n",
       "\n",
       "\n",
       "  function run_callbacks() {\n",
       "    try {\n",
       "      root._bokeh_onload_callbacks.forEach(function(callback) { callback() });\n",
       "    }\n",
       "    finally {\n",
       "      delete root._bokeh_onload_callbacks\n",
       "    }\n",
       "    console.info(\"Bokeh: all callbacks have finished\");\n",
       "  }\n",
       "\n",
       "  function load_libs(js_urls, callback) {\n",
       "    root._bokeh_onload_callbacks.push(callback);\n",
       "    if (root._bokeh_is_loading > 0) {\n",
       "      console.log(\"Bokeh: BokehJS is being loaded, scheduling callback at\", now());\n",
       "      return null;\n",
       "    }\n",
       "    if (js_urls == null || js_urls.length === 0) {\n",
       "      run_callbacks();\n",
       "      return null;\n",
       "    }\n",
       "    console.log(\"Bokeh: BokehJS not loaded, scheduling load and callback at\", now());\n",
       "    root._bokeh_is_loading = js_urls.length;\n",
       "    for (var i = 0; i < js_urls.length; i++) {\n",
       "      var url = js_urls[i];\n",
       "      var s = document.createElement('script');\n",
       "      s.src = url;\n",
       "      s.async = false;\n",
       "      s.onreadystatechange = s.onload = function() {\n",
       "        root._bokeh_is_loading--;\n",
       "        if (root._bokeh_is_loading === 0) {\n",
       "          console.log(\"Bokeh: all BokehJS libraries loaded\");\n",
       "          run_callbacks()\n",
       "        }\n",
       "      };\n",
       "      s.onerror = function() {\n",
       "        console.warn(\"failed to load library \" + url);\n",
       "      };\n",
       "      console.log(\"Bokeh: injecting script tag for BokehJS library: \", url);\n",
       "      document.getElementsByTagName(\"head\")[0].appendChild(s);\n",
       "    }\n",
       "  };var element = document.getElementById(\"1001\");\n",
       "  if (element == null) {\n",
       "    console.log(\"Bokeh: ERROR: autoload.js configured with elementid '1001' but no matching script tag was found. \")\n",
       "    return false;\n",
       "  }\n",
       "\n",
       "  var js_urls = [\"https://cdn.pydata.org/bokeh/release/bokeh-1.0.0.min.js\", \"https://cdn.pydata.org/bokeh/release/bokeh-widgets-1.0.0.min.js\", \"https://cdn.pydata.org/bokeh/release/bokeh-tables-1.0.0.min.js\", \"https://cdn.pydata.org/bokeh/release/bokeh-gl-1.0.0.min.js\"];\n",
       "\n",
       "  var inline_js = [\n",
       "    function(Bokeh) {\n",
       "      Bokeh.set_log_level(\"info\");\n",
       "    },\n",
       "    \n",
       "    function(Bokeh) {\n",
       "      \n",
       "    },\n",
       "    function(Bokeh) {\n",
       "      console.log(\"Bokeh: injecting CSS: https://cdn.pydata.org/bokeh/release/bokeh-1.0.0.min.css\");\n",
       "      Bokeh.embed.inject_css(\"https://cdn.pydata.org/bokeh/release/bokeh-1.0.0.min.css\");\n",
       "      console.log(\"Bokeh: injecting CSS: https://cdn.pydata.org/bokeh/release/bokeh-widgets-1.0.0.min.css\");\n",
       "      Bokeh.embed.inject_css(\"https://cdn.pydata.org/bokeh/release/bokeh-widgets-1.0.0.min.css\");\n",
       "      console.log(\"Bokeh: injecting CSS: https://cdn.pydata.org/bokeh/release/bokeh-tables-1.0.0.min.css\");\n",
       "      Bokeh.embed.inject_css(\"https://cdn.pydata.org/bokeh/release/bokeh-tables-1.0.0.min.css\");\n",
       "    }\n",
       "  ];\n",
       "\n",
       "  function run_inline_js() {\n",
       "    \n",
       "    if ((root.Bokeh !== undefined) || (force === true)) {\n",
       "      for (var i = 0; i < inline_js.length; i++) {\n",
       "        inline_js[i].call(root, root.Bokeh);\n",
       "      }if (force === true) {\n",
       "        display_loaded();\n",
       "      }} else if (Date.now() < root._bokeh_timeout) {\n",
       "      setTimeout(run_inline_js, 100);\n",
       "    } else if (!root._bokeh_failed_load) {\n",
       "      console.log(\"Bokeh: BokehJS failed to load within specified timeout.\");\n",
       "      root._bokeh_failed_load = true;\n",
       "    } else if (force !== true) {\n",
       "      var cell = $(document.getElementById(\"1001\")).parents('.cell').data().cell;\n",
       "      cell.output_area.append_execute_result(NB_LOAD_WARNING)\n",
       "    }\n",
       "\n",
       "  }\n",
       "\n",
       "  if (root._bokeh_is_loading === 0) {\n",
       "    console.log(\"Bokeh: BokehJS loaded, going straight to plotting\");\n",
       "    run_inline_js();\n",
       "  } else {\n",
       "    load_libs(js_urls, function() {\n",
       "      console.log(\"Bokeh: BokehJS plotting callback run at\", now());\n",
       "      run_inline_js();\n",
       "    });\n",
       "  }\n",
       "}(window));"
      ],
      "application/vnd.bokehjs_load.v0+json": "\n(function(root) {\n  function now() {\n    return new Date();\n  }\n\n  var force = true;\n\n  if (typeof (root._bokeh_onload_callbacks) === \"undefined\" || force === true) {\n    root._bokeh_onload_callbacks = [];\n    root._bokeh_is_loading = undefined;\n  }\n\n  \n\n  \n  if (typeof (root._bokeh_timeout) === \"undefined\" || force === true) {\n    root._bokeh_timeout = Date.now() + 5000;\n    root._bokeh_failed_load = false;\n  }\n\n  var NB_LOAD_WARNING = {'data': {'text/html':\n     \"<div style='background-color: #fdd'>\\n\"+\n     \"<p>\\n\"+\n     \"BokehJS does not appear to have successfully loaded. If loading BokehJS from CDN, this \\n\"+\n     \"may be due to a slow or bad network connection. Possible fixes:\\n\"+\n     \"</p>\\n\"+\n     \"<ul>\\n\"+\n     \"<li>re-rerun `output_notebook()` to attempt to load from CDN again, or</li>\\n\"+\n     \"<li>use INLINE resources instead, as so:</li>\\n\"+\n     \"</ul>\\n\"+\n     \"<code>\\n\"+\n     \"from bokeh.resources import INLINE\\n\"+\n     \"output_notebook(resources=INLINE)\\n\"+\n     \"</code>\\n\"+\n     \"</div>\"}};\n\n  function display_loaded() {\n    var el = document.getElementById(\"1001\");\n    if (el != null) {\n      el.textContent = \"BokehJS is loading...\";\n    }\n    if (root.Bokeh !== undefined) {\n      if (el != null) {\n        el.textContent = \"BokehJS \" + root.Bokeh.version + \" successfully loaded.\";\n      }\n    } else if (Date.now() < root._bokeh_timeout) {\n      setTimeout(display_loaded, 100)\n    }\n  }\n\n\n  function run_callbacks() {\n    try {\n      root._bokeh_onload_callbacks.forEach(function(callback) { callback() });\n    }\n    finally {\n      delete root._bokeh_onload_callbacks\n    }\n    console.info(\"Bokeh: all callbacks have finished\");\n  }\n\n  function load_libs(js_urls, callback) {\n    root._bokeh_onload_callbacks.push(callback);\n    if (root._bokeh_is_loading > 0) {\n      console.log(\"Bokeh: BokehJS is being loaded, scheduling callback at\", now());\n      return null;\n    }\n    if (js_urls == null || js_urls.length === 0) {\n      run_callbacks();\n      return null;\n    }\n    console.log(\"Bokeh: BokehJS not loaded, scheduling load and callback at\", now());\n    root._bokeh_is_loading = js_urls.length;\n    for (var i = 0; i < js_urls.length; i++) {\n      var url = js_urls[i];\n      var s = document.createElement('script');\n      s.src = url;\n      s.async = false;\n      s.onreadystatechange = s.onload = function() {\n        root._bokeh_is_loading--;\n        if (root._bokeh_is_loading === 0) {\n          console.log(\"Bokeh: all BokehJS libraries loaded\");\n          run_callbacks()\n        }\n      };\n      s.onerror = function() {\n        console.warn(\"failed to load library \" + url);\n      };\n      console.log(\"Bokeh: injecting script tag for BokehJS library: \", url);\n      document.getElementsByTagName(\"head\")[0].appendChild(s);\n    }\n  };var element = document.getElementById(\"1001\");\n  if (element == null) {\n    console.log(\"Bokeh: ERROR: autoload.js configured with elementid '1001' but no matching script tag was found. \")\n    return false;\n  }\n\n  var js_urls = [\"https://cdn.pydata.org/bokeh/release/bokeh-1.0.0.min.js\", \"https://cdn.pydata.org/bokeh/release/bokeh-widgets-1.0.0.min.js\", \"https://cdn.pydata.org/bokeh/release/bokeh-tables-1.0.0.min.js\", \"https://cdn.pydata.org/bokeh/release/bokeh-gl-1.0.0.min.js\"];\n\n  var inline_js = [\n    function(Bokeh) {\n      Bokeh.set_log_level(\"info\");\n    },\n    \n    function(Bokeh) {\n      \n    },\n    function(Bokeh) {\n      console.log(\"Bokeh: injecting CSS: https://cdn.pydata.org/bokeh/release/bokeh-1.0.0.min.css\");\n      Bokeh.embed.inject_css(\"https://cdn.pydata.org/bokeh/release/bokeh-1.0.0.min.css\");\n      console.log(\"Bokeh: injecting CSS: https://cdn.pydata.org/bokeh/release/bokeh-widgets-1.0.0.min.css\");\n      Bokeh.embed.inject_css(\"https://cdn.pydata.org/bokeh/release/bokeh-widgets-1.0.0.min.css\");\n      console.log(\"Bokeh: injecting CSS: https://cdn.pydata.org/bokeh/release/bokeh-tables-1.0.0.min.css\");\n      Bokeh.embed.inject_css(\"https://cdn.pydata.org/bokeh/release/bokeh-tables-1.0.0.min.css\");\n    }\n  ];\n\n  function run_inline_js() {\n    \n    if ((root.Bokeh !== undefined) || (force === true)) {\n      for (var i = 0; i < inline_js.length; i++) {\n        inline_js[i].call(root, root.Bokeh);\n      }if (force === true) {\n        display_loaded();\n      }} else if (Date.now() < root._bokeh_timeout) {\n      setTimeout(run_inline_js, 100);\n    } else if (!root._bokeh_failed_load) {\n      console.log(\"Bokeh: BokehJS failed to load within specified timeout.\");\n      root._bokeh_failed_load = true;\n    } else if (force !== true) {\n      var cell = $(document.getElementById(\"1001\")).parents('.cell').data().cell;\n      cell.output_area.append_execute_result(NB_LOAD_WARNING)\n    }\n\n  }\n\n  if (root._bokeh_is_loading === 0) {\n    console.log(\"Bokeh: BokehJS loaded, going straight to plotting\");\n    run_inline_js();\n  } else {\n    load_libs(js_urls, function() {\n      console.log(\"Bokeh: BokehJS plotting callback run at\", now());\n      run_inline_js();\n    });\n  }\n}(window));"
     },
     "metadata": {},
     "output_type": "display_data"
    }
   ],
   "source": [
    "# Import tools and libraries\n",
    "\n",
    "import numpy as np\n",
    "\n",
    "from bokeh.plotting import figure, show, gridplot\n",
    "from bokeh.palettes import cividis\n",
    "from bokeh.io       import output_notebook, curdoc\n",
    "from bokeh.models   import Range1d\n",
    "output_notebook()\n",
    "#curdoc().theme = 'dark_minimal'\n",
    "\n",
    "from glob       import glob\n",
    "from sys        import path\n",
    "path.insert(0, MagritteSetupFolder)\n",
    "\n",
    "# Import from MagritteSetupFolder\n",
    "from spheres  import deSphere, sphereVar, nRays\n",
    "from lineData import LineData, planck, relativeDifference\n",
    "from setup    import setupMagritte\n",
    "from model    import mapToXD\n",
    "from model    import model as Model\n",
    "from build    import compile, execute"
   ]
  },
  {
   "cell_type": "markdown",
   "metadata": {},
   "source": [
    "## 1) Define model"
   ]
  },
  {
   "cell_type": "markdown",
   "metadata": {},
   "source": [
    "Assume a spherically symmetric model described by\n",
    "\n",
    "\\begin{align}\n",
    "T(r)     \\ &= \\ 20 \\text{ K}                            \\\\\n",
    "\\rho(r)  \\ &= \\ \\rho(r_{0}) \\ \\left(r/r_{0}\\right)^{-2} \\\\\n",
    "n_{i}(r) \\ &= \\ X_{\\text{mol}} \\ \\rho(r)                \\\\\n",
    "v(r)     \\ &= \\ 0.0 \\text{ m s}^{-1}\n",
    "\\end{align}\n"
   ]
  },
  {
   "cell_type": "code",
   "execution_count": 3,
   "metadata": {
    "ExecuteTime": {
     "end_time": "2019-01-05T09:51:20.626168Z",
     "start_time": "2019-01-05T09:51:20.621896Z"
    }
   },
   "outputs": [],
   "source": [
    "n_H2  = 2.0E13   # [m^-3]\n",
    "\n",
    "X_mol = 1.0E-8   # []\n",
    "\n",
    "r_in  = 1.0E13   # [m]\n",
    "r_out = 7.8E16   # [m]\n",
    "\n",
    "T     = 20.0     # [K]\n",
    "\n",
    "def rho (r):\n",
    "    return n_H2 * np.power(r/r_in, -2.0)"
   ]
  },
  {
   "cell_type": "code",
   "execution_count": 4,
   "metadata": {
    "ExecuteTime": {
     "end_time": "2019-01-05T09:50:49.029052Z",
     "start_time": "2019-01-05T09:50:48.968230Z"
    },
    "code_folding": [],
    "scrolled": true
   },
   "outputs": [
    {
     "name": "stdout",
     "output_type": "stream",
     "text": [
      "ncells in 2D model = 378\n",
      "nrays  in 2D model = 50 \n"
     ]
    }
   ],
   "source": [
    "# Setup model\n",
    "\n",
    "model = Model (dim=1)\n",
    "\n",
    "model.ncells = 20\n",
    "\n",
    "base = 10\n",
    "log_r_in  = np.log(r_in)  / np.log(base)\n",
    "log_r_out = np.log(r_out) / np.log(base)\n",
    "\n",
    "model.x = np.logspace (log_r_in, log_r_out, model.ncells, base=base, endpoint=True)\n",
    "#model.x = np.linspace (r_in, r_out, model.ncells, endpoint=True)\n",
    "model.y = [0.0 for _ in range(model.ncells)]\n",
    "model.z = [0.0 for _ in range(model.ncells)]\n",
    "\n",
    "model.density     = rho(model.x)\n",
    "model.abundance   = X_mol * model.density\n",
    "model.temperature = [T for _ in range(model.ncells)]\n",
    "model.vturbulence = [0.0 for _ in range(model.ncells)]\n",
    "\n",
    "model.vx = [0.0 for _ in range(model.ncells)]\n",
    "model.vy = [0.0 for _ in range(model.ncells)]\n",
    "model.vz = [0.0 for _ in range(model.ncells)]\n",
    "\n",
    "# Define nsidesList for mapping to 3D model\n",
    "nraysList = [int(6+2.0*np.pi*np.log(i+1)) for i in range(model.ncells)]\n",
    "\n",
    "# Map 1D model to spherically symmetric 2D model\n",
    "(model2D, cellsInShell) = mapToXD(model, dimension=2, nraysList=nraysList)\n",
    "#model2D.boundary = model2D.boundary + cellsInShell[0]\n",
    "\n",
    "# Define rays\n",
    "model2D.defineRays (nrays=50)\n",
    "\n",
    "# Write new model data\n",
    "model2D.writeInput (ProjectFolder + 'Magritte_files/')\n",
    "\n",
    "# Run setup\n",
    "setupMagritte (projectFolder = ProjectFolder, runName = '')\n",
    "\n",
    "print(f'ncells in 2D model = {model2D.ncells}')\n",
    "print(f'nrays  in 2D model = {model2D.nrays} ')"
   ]
  },
  {
   "cell_type": "code",
   "execution_count": 5,
   "metadata": {},
   "outputs": [
    {
     "data": {
      "text/plain": [
       "[0, 1, 2, 3, 4, 5]"
      ]
     },
     "execution_count": 5,
     "metadata": {},
     "output_type": "execute_result"
    }
   ],
   "source": [
    "cellsInShell[0]"
   ]
  },
  {
   "cell_type": "code",
   "execution_count": null,
   "metadata": {
    "ExecuteTime": {
     "end_time": "2019-01-05T09:50:54.867129Z",
     "start_time": "2019-01-05T09:50:54.365493Z"
    }
   },
   "outputs": [
    {
     "data": {
      "image/png": "[encoded data removed]",
      "text/plain": [
       "<Figure size 432x288 with 1 Axes>"
      ]
     },
     "execution_count": 6,
     "metadata": {},
     "output_type": "execute_result"
    },
    {
     "data": {
      "image/png": "[encoded data removed]",
      "text/plain": [
       "<Figure size 432x288 with 1 Axes>"
      ]
     },
     "metadata": {
      "needs_background": "light"
     },
     "output_type": "display_data"
    }
   ],
   "source": [
    "from scipy.spatial import Voronoi, voronoi_plot_2d\n",
    "import matplotlib.pyplot as plt\n",
    "%matplotlib inline\n",
    "\n",
    "points = [[model2D.x[p], model2D.y[p]] for p in range(model2D.ncells)]\n",
    "vor    = Voronoi(points)\n",
    "\n",
    "voronoi_plot_2d(vor)"
   ]
  },
  {
   "cell_type": "markdown",
   "metadata": {},
   "source": [
    "### Plot model"
   ]
  },
  {
   "cell_type": "code",
   "execution_count": null,
   "metadata": {
    "ExecuteTime": {
     "end_time": "2019-01-03T16:47:19.301454Z",
     "start_time": "2019-01-03T16:47:19.153744Z"
    },
    "code_folding": [
     0
    ],
    "scrolled": false
   },
   "outputs": [
    {
     "data": {
      "text/html": [
       "\n",
       "\n",
       "\n",
       "\n",
       "\n",
       "\n",
       "  <div class=\"bk-root\" id=\"fbe776e6-b770-47f6-bdd1-b817a753204b\"></div>\n"
      ]
     },
     "metadata": {},
     "output_type": "display_data"
    },
    {
     "data": {
      "application/javascript": [
       "(function(root) {\n",
       "  function embed_document(root) {\n",
       "    \n",
       "  var docs_json = {\"5e5003e6-d7ff-4309-a2ec-8f250bb462fc\":{\"roots\":{\"references\":[{\"attributes\":{\"children\":[{\"id\":\"1202\",\"type\":\"ToolbarBox\"},{\"id\":\"1200\",\"type\":\"Column\"}]},\"id\":\"1203\",\"type\":\"Column\"},{\"attributes\":{\"plot\":null,\"text\":\"\"},\"id\":\"1190\",\"type\":\"Title\"},{\"attributes\":{\"axis_label\":\"density [m^-3]\",\"formatter\":{\"id\":\"1161\",\"type\":\"LogTickFormatter\"},\"plot\":{\"id\":\"1002\",\"subtype\":\"Figure\",\"type\":\"Plot\"},\"ticker\":{\"id\":\"1017\",\"type\":\"LogTicker\"}},\"id\":\"1016\",\"type\":\"LogAxis\"},{\"attributes\":{},\"id\":\"1192\",\"type\":\"BasicTickFormatter\"},{\"attributes\":{\"num_minor_ticks\":10},\"id\":\"1017\",\"type\":\"LogTicker\"},{\"attributes\":{},\"id\":\"1194\",\"type\":\"BasicTickFormatter\"},{\"attributes\":{\"dimension\":1,\"plot\":{\"id\":\"1002\",\"subtype\":\"Figure\",\"type\":\"Plot\"},\"ticker\":{\"id\":\"1017\",\"type\":\"LogTicker\"}},\"id\":\"1020\",\"type\":\"Grid\"},{\"attributes\":{\"callback\":null},\"id\":\"1003\",\"type\":\"DataRange1d\"},{\"attributes\":{},\"id\":\"1196\",\"type\":\"UnionRenderers\"},{\"attributes\":{\"active_drag\":\"auto\",\"active_inspect\":\"auto\",\"active_multi\":null,\"active_scroll\":\"auto\",\"active_tap\":\"auto\",\"tools\":[{\"id\":\"1021\",\"type\":\"PanTool\"},{\"id\":\"1022\",\"type\":\"WheelZoomTool\"},{\"id\":\"1023\",\"type\":\"BoxZoomTool\"},{\"id\":\"1024\",\"type\":\"SaveTool\"},{\"id\":\"1025\",\"type\":\"ResetTool\"},{\"id\":\"1026\",\"type\":\"HelpTool\"}]},\"id\":\"1027\",\"type\":\"Toolbar\"},{\"attributes\":{},\"id\":\"1197\",\"type\":\"Selection\"},{\"attributes\":{\"callback\":null,\"data\":{\"x\":{\"__ndarray__\":\"6/8/5ZwwokJJlsedECetQsnFmcN0XLdC1rF+s2G4wkKWaBawqADOQidoMrHSCthCSXZl4RtE40Iww8HfmODuQiDM0hZGvvhCafW9+ujTA0NhXyCHEMcPQy3mmeb0dhlDn7TZZ+dnJEPI2fwwIFowQ6eL4C0GNTpD9h4AdDYARUMJAupLLdRQQw5xex2i+FpD2osMVPacZUPdr0djyVFxQw==\",\"dtype\":\"float64\",\"shape\":[20]},\"y\":{\"__ndarray__\":\"LAAAANASc0E/l1YK5LNdQXy/MHWuIEdBvOOV7hECMkEV81/AJwscQSNMD1L31QVBaEb99Y8A8UB08T/+JHraQOkBgES5ncRAygeLPHANsEBCiCaDiP+YQNl2sCTsdoNAe3F7J8pPbkCxcW8BEppXQIofHYyWYEJAKk54lFieLEA9kagPk0gWQHd2kwLNWQFAsjkYDx0F6z+SKbso7gnVPw==\",\"dtype\":\"float64\",\"shape\":[20]}},\"selected\":{\"id\":\"1176\",\"type\":\"Selection\"},\"selection_policy\":{\"id\":\"1175\",\"type\":\"UnionRenderers\"}},\"id\":\"1075\",\"type\":\"ColumnDataSource\"},{\"attributes\":{\"tools\":[{\"id\":\"1021\",\"type\":\"PanTool\"},{\"id\":\"1022\",\"type\":\"WheelZoomTool\"},{\"id\":\"1023\",\"type\":\"BoxZoomTool\"},{\"id\":\"1024\",\"type\":\"SaveTool\"},{\"id\":\"1025\",\"type\":\"ResetTool\"},{\"id\":\"1026\",\"type\":\"HelpTool\"},{\"id\":\"1060\",\"type\":\"PanTool\"},{\"id\":\"1061\",\"type\":\"WheelZoomTool\"},{\"id\":\"1062\",\"type\":\"BoxZoomTool\"},{\"id\":\"1063\",\"type\":\"SaveTool\"},{\"id\":\"1064\",\"type\":\"ResetTool\"},{\"id\":\"1065\",\"type\":\"HelpTool\"},{\"id\":\"1099\",\"type\":\"PanTool\"},{\"id\":\"1100\",\"type\":\"WheelZoomTool\"},{\"id\":\"1101\",\"type\":\"BoxZoomTool\"},{\"id\":\"1102\",\"type\":\"SaveTool\"},{\"id\":\"1103\",\"type\":\"ResetTool\"},{\"id\":\"1104\",\"type\":\"HelpTool\"},{\"id\":\"1138\",\"type\":\"PanTool\"},{\"id\":\"1139\",\"type\":\"WheelZoomTool\"},{\"id\":\"1140\",\"type\":\"BoxZoomTool\"},{\"id\":\"1141\",\"type\":\"SaveTool\"},{\"id\":\"1142\",\"type\":\"ResetTool\"},{\"id\":\"1143\",\"type\":\"HelpTool\"}]},\"id\":\"1201\",\"type\":\"ProxyToolbar\"},{\"attributes\":{},\"id\":\"1021\",\"type\":\"PanTool\"},{\"attributes\":{\"callback\":null,\"data\":{\"x\":{\"__ndarray__\":\"6/8/5ZwwokJJlsedECetQsnFmcN0XLdC1rF+s2G4wkKWaBawqADOQidoMrHSCthCSXZl4RtE40Iww8HfmODuQiDM0hZGvvhCafW9+ujTA0NhXyCHEMcPQy3mmeb0dhlDn7TZZ+dnJEPI2fwwIFowQ6eL4C0GNTpD9h4AdDYARUMJAupLLdRQQw5xex2i+FpD2osMVPacZUPdr0djyVFxQw==\",\"dtype\":\"float64\",\"shape\":[20]},\"y\":{\"__ndarray__\":\"KgBA5ZwwskJW/OulolOcQl3xOuBmDoZCI2rsYYEscUIvgfJ0k75aQrge/tAB00RCuf6zSu02MEIhs4hvJEAZQtOjV8M6qQNC8w36uiGe7kFKKzMMEtfXQRhaLcwVkMJBhjUP5k/orEEJbObTKoKWQSh2txKlhoFBa4v3sfJKa0Ej3ppfTkBVQabpSAcIjEBBZjZ5aqzEKUHxHVBkbBAUQQ==\",\"dtype\":\"float64\",\"shape\":[20]}},\"selected\":{\"id\":\"1166\",\"type\":\"Selection\"},\"selection_policy\":{\"id\":\"1165\",\"type\":\"UnionRenderers\"}},\"id\":\"1036\",\"type\":\"ColumnDataSource\"},{\"attributes\":{\"toolbar\":{\"id\":\"1201\",\"type\":\"ProxyToolbar\"},\"toolbar_location\":\"above\"},\"id\":\"1202\",\"type\":\"ToolbarBox\"},{\"attributes\":{},\"id\":\"1022\",\"type\":\"WheelZoomTool\"},{\"attributes\":{\"overlay\":{\"id\":\"1029\",\"type\":\"BoxAnnotation\"}},\"id\":\"1023\",\"type\":\"BoxZoomTool\"},{\"attributes\":{},\"id\":\"1024\",\"type\":\"SaveTool\"},{\"attributes\":{\"data_source\":{\"id\":\"1075\",\"type\":\"ColumnDataSource\"},\"glyph\":{\"id\":\"1076\",\"type\":\"Circle\"},\"hover_glyph\":null,\"muted_glyph\":null,\"nonselection_glyph\":{\"id\":\"1077\",\"type\":\"Circle\"},\"selection_glyph\":null,\"view\":{\"id\":\"1079\",\"type\":\"CDSView\"}},\"id\":\"1078\",\"type\":\"GlyphRenderer\"},{\"attributes\":{},\"id\":\"1025\",\"type\":\"ResetTool\"},{\"attributes\":{\"below\":[{\"id\":\"1011\",\"type\":\"LinearAxis\"}],\"left\":[{\"id\":\"1016\",\"type\":\"LogAxis\"}],\"plot_height\":250,\"plot_width\":400,\"renderers\":[{\"id\":\"1011\",\"type\":\"LinearAxis\"},{\"id\":\"1015\",\"type\":\"Grid\"},{\"id\":\"1016\",\"type\":\"LogAxis\"},{\"id\":\"1020\",\"type\":\"Grid\"},{\"id\":\"1029\",\"type\":\"BoxAnnotation\"},{\"id\":\"1039\",\"type\":\"GlyphRenderer\"}],\"title\":{\"id\":\"1159\",\"type\":\"Title\"},\"toolbar\":{\"id\":\"1027\",\"type\":\"Toolbar\"},\"toolbar_location\":null,\"x_range\":{\"id\":\"1003\",\"type\":\"DataRange1d\"},\"x_scale\":{\"id\":\"1007\",\"type\":\"LinearScale\"},\"y_range\":{\"id\":\"1005\",\"type\":\"DataRange1d\"},\"y_scale\":{\"id\":\"1009\",\"type\":\"LogScale\"}},\"id\":\"1002\",\"subtype\":\"Figure\",\"type\":\"Plot\"},{\"attributes\":{},\"id\":\"1026\",\"type\":\"HelpTool\"},{\"attributes\":{\"ticker\":null},\"id\":\"1171\",\"type\":\"LogTickFormatter\"},{\"attributes\":{\"bottom_units\":\"screen\",\"fill_alpha\":{\"value\":0.5},\"fill_color\":{\"value\":\"lightgrey\"},\"left_units\":\"screen\",\"level\":\"overlay\",\"line_alpha\":{\"value\":1.0},\"line_color\":{\"value\":\"black\"},\"line_dash\":[4,4],\"line_width\":{\"value\":2},\"plot\":null,\"render_mode\":\"css\",\"right_units\":\"screen\",\"top_units\":\"screen\"},\"id\":\"1029\",\"type\":\"BoxAnnotation\"},{\"attributes\":{\"below\":[{\"id\":\"1050\",\"type\":\"LinearAxis\"}],\"left\":[{\"id\":\"1055\",\"type\":\"LogAxis\"}],\"plot_height\":250,\"plot_width\":400,\"renderers\":[{\"id\":\"1050\",\"type\":\"LinearAxis\"},{\"id\":\"1054\",\"type\":\"Grid\"},{\"id\":\"1055\",\"type\":\"LogAxis\"},{\"id\":\"1059\",\"type\":\"Grid\"},{\"id\":\"1068\",\"type\":\"BoxAnnotation\"},{\"id\":\"1078\",\"type\":\"GlyphRenderer\"}],\"title\":{\"id\":\"1169\",\"type\":\"Title\"},\"toolbar\":{\"id\":\"1066\",\"type\":\"Toolbar\"},\"toolbar_location\":null,\"x_range\":{\"id\":\"1042\",\"type\":\"DataRange1d\"},\"x_scale\":{\"id\":\"1046\",\"type\":\"LinearScale\"},\"y_range\":{\"id\":\"1044\",\"type\":\"DataRange1d\"},\"y_scale\":{\"id\":\"1048\",\"type\":\"LogScale\"}},\"id\":\"1041\",\"subtype\":\"Figure\",\"type\":\"Plot\"},{\"attributes\":{\"fill_alpha\":{\"value\":0.1},\"fill_color\":{\"value\":\"#1f77b4\"},\"line_alpha\":{\"value\":0.1},\"line_color\":{\"value\":\"#1f77b4\"},\"x\":{\"field\":\"x\"},\"y\":{\"field\":\"y\"}},\"id\":\"1038\",\"type\":\"Circle\"},{\"attributes\":{\"data_source\":{\"id\":\"1036\",\"type\":\"ColumnDataSource\"},\"glyph\":{\"id\":\"1037\",\"type\":\"Circle\"},\"hover_glyph\":null,\"muted_glyph\":null,\"nonselection_glyph\":{\"id\":\"1038\",\"type\":\"Circle\"},\"selection_glyph\":null,\"view\":{\"id\":\"1040\",\"type\":\"CDSView\"}},\"id\":\"1039\",\"type\":\"GlyphRenderer\"},{\"attributes\":{\"source\":{\"id\":\"1036\",\"type\":\"ColumnDataSource\"}},\"id\":\"1040\",\"type\":\"CDSView\"},{\"attributes\":{\"fill_alpha\":{\"value\":0.1},\"fill_color\":{\"value\":\"#1f77b4\"},\"line_alpha\":{\"value\":0.1},\"line_color\":{\"value\":\"#1f77b4\"},\"x\":{\"field\":\"x\"},\"y\":{\"field\":\"y\"}},\"id\":\"1077\",\"type\":\"Circle\"},{\"attributes\":{\"callback\":null},\"id\":\"1042\",\"type\":\"DataRange1d\"},{\"attributes\":{\"callback\":null},\"id\":\"1044\",\"type\":\"DataRange1d\"},{\"attributes\":{},\"id\":\"1046\",\"type\":\"LinearScale\"},{\"attributes\":{},\"id\":\"1048\",\"type\":\"LogScale\"},{\"attributes\":{\"axis_label\":\"x [m]\",\"formatter\":{\"id\":\"1173\",\"type\":\"BasicTickFormatter\"},\"plot\":{\"id\":\"1041\",\"subtype\":\"Figure\",\"type\":\"Plot\"},\"ticker\":{\"id\":\"1051\",\"type\":\"BasicTicker\"}},\"id\":\"1050\",\"type\":\"LinearAxis\"},{\"attributes\":{},\"id\":\"1051\",\"type\":\"BasicTicker\"},{\"attributes\":{\"plot\":{\"id\":\"1041\",\"subtype\":\"Figure\",\"type\":\"Plot\"},\"ticker\":{\"id\":\"1051\",\"type\":\"BasicTicker\"}},\"id\":\"1054\",\"type\":\"Grid\"},{\"attributes\":{\"axis_label\":\"abundance [xm^-3]\",\"formatter\":{\"id\":\"1171\",\"type\":\"LogTickFormatter\"},\"plot\":{\"id\":\"1041\",\"subtype\":\"Figure\",\"type\":\"Plot\"},\"ticker\":{\"id\":\"1056\",\"type\":\"LogTicker\"}},\"id\":\"1055\",\"type\":\"LogAxis\"},{\"attributes\":{\"callback\":null},\"id\":\"1005\",\"type\":\"DataRange1d\"},{\"attributes\":{\"num_minor_ticks\":10},\"id\":\"1056\",\"type\":\"LogTicker\"},{\"attributes\":{},\"id\":\"1007\",\"type\":\"LinearScale\"},{\"attributes\":{\"dimension\":1,\"plot\":{\"id\":\"1041\",\"subtype\":\"Figure\",\"type\":\"Plot\"},\"ticker\":{\"id\":\"1056\",\"type\":\"LogTicker\"}},\"id\":\"1059\",\"type\":\"Grid\"},{\"attributes\":{},\"id\":\"1009\",\"type\":\"LogScale\"},{\"attributes\":{\"axis_label\":\"x [m]\",\"formatter\":{\"id\":\"1163\",\"type\":\"BasicTickFormatter\"},\"plot\":{\"id\":\"1002\",\"subtype\":\"Figure\",\"type\":\"Plot\"},\"ticker\":{\"id\":\"1012\",\"type\":\"BasicTicker\"}},\"id\":\"1011\",\"type\":\"LinearAxis\"},{\"attributes\":{\"fill_color\":{\"value\":\"#1f77b4\"},\"line_color\":{\"value\":\"#1f77b4\"},\"x\":{\"field\":\"x\"},\"y\":{\"field\":\"y\"}},\"id\":\"1076\",\"type\":\"Circle\"},{\"attributes\":{\"below\":[{\"id\":\"1089\",\"type\":\"LinearAxis\"}],\"left\":[{\"id\":\"1094\",\"type\":\"LinearAxis\"}],\"plot_height\":250,\"plot_width\":400,\"renderers\":[{\"id\":\"1089\",\"type\":\"LinearAxis\"},{\"id\":\"1093\",\"type\":\"Grid\"},{\"id\":\"1094\",\"type\":\"LinearAxis\"},{\"id\":\"1098\",\"type\":\"Grid\"},{\"id\":\"1107\",\"type\":\"BoxAnnotation\"},{\"id\":\"1117\",\"type\":\"GlyphRenderer\"}],\"title\":{\"id\":\"1180\",\"type\":\"Title\"},\"toolbar\":{\"id\":\"1105\",\"type\":\"Toolbar\"},\"toolbar_location\":null,\"x_range\":{\"id\":\"1081\",\"type\":\"DataRange1d\"},\"x_scale\":{\"id\":\"1085\",\"type\":\"LinearScale\"},\"y_range\":{\"id\":\"1083\",\"type\":\"DataRange1d\"},\"y_scale\":{\"id\":\"1087\",\"type\":\"LinearScale\"}},\"id\":\"1080\",\"subtype\":\"Figure\",\"type\":\"Plot\"},{\"attributes\":{},\"id\":\"1012\",\"type\":\"BasicTicker\"},{\"attributes\":{\"callback\":null,\"data\":{\"x\":{\"__ndarray__\":\"6/8/5ZwwokJJlsedECetQsnFmcN0XLdC1rF+s2G4wkKWaBawqADOQidoMrHSCthCSXZl4RtE40Iww8HfmODuQiDM0hZGvvhCafW9+ujTA0NhXyCHEMcPQy3mmeb0dhlDn7TZZ+dnJEPI2fwwIFowQ6eL4C0GNTpD9h4AdDYARUMJAupLLdRQQw5xex2i+FpD2osMVPacZUPdr0djyVFxQw==\",\"dtype\":\"float64\",\"shape\":[20]},\"y\":[20.0,20.0,20.0,20.0,20.0,20.0,20.0,20.0,20.0,20.0,20.0,20.0,20.0,20.0,20.0,20.0,20.0,20.0,20.0,20.0]},\"selected\":{\"id\":\"1187\",\"type\":\"Selection\"},\"selection_policy\":{\"id\":\"1186\",\"type\":\"UnionRenderers\"}},\"id\":\"1114\",\"type\":\"ColumnDataSource\"},{\"attributes\":{},\"id\":\"1060\",\"type\":\"PanTool\"},{\"attributes\":{\"plot\":{\"id\":\"1002\",\"subtype\":\"Figure\",\"type\":\"Plot\"},\"ticker\":{\"id\":\"1012\",\"type\":\"BasicTicker\"}},\"id\":\"1015\",\"type\":\"Grid\"},{\"attributes\":{},\"id\":\"1061\",\"type\":\"WheelZoomTool\"},{\"attributes\":{},\"id\":\"1124\",\"type\":\"LinearScale\"},{\"attributes\":{\"overlay\":{\"id\":\"1068\",\"type\":\"BoxAnnotation\"}},\"id\":\"1062\",\"type\":\"BoxZoomTool\"},{\"attributes\":{},\"id\":\"1126\",\"type\":\"LinearScale\"},{\"attributes\":{},\"id\":\"1063\",\"type\":\"SaveTool\"},{\"attributes\":{\"axis_label\":\"x [m]\",\"formatter\":{\"id\":\"1194\",\"type\":\"BasicTickFormatter\"},\"plot\":{\"id\":\"1119\",\"subtype\":\"Figure\",\"type\":\"Plot\"},\"ticker\":{\"id\":\"1129\",\"type\":\"BasicTicker\"}},\"id\":\"1128\",\"type\":\"LinearAxis\"},{\"attributes\":{},\"id\":\"1064\",\"type\":\"ResetTool\"},{\"attributes\":{},\"id\":\"1129\",\"type\":\"BasicTicker\"},{\"attributes\":{},\"id\":\"1065\",\"type\":\"HelpTool\"},{\"attributes\":{\"plot\":{\"id\":\"1119\",\"subtype\":\"Figure\",\"type\":\"Plot\"},\"ticker\":{\"id\":\"1129\",\"type\":\"BasicTicker\"}},\"id\":\"1132\",\"type\":\"Grid\"},{\"attributes\":{\"active_drag\":\"auto\",\"active_inspect\":\"auto\",\"active_multi\":null,\"active_scroll\":\"auto\",\"active_tap\":\"auto\",\"tools\":[{\"id\":\"1060\",\"type\":\"PanTool\"},{\"id\":\"1061\",\"type\":\"WheelZoomTool\"},{\"id\":\"1062\",\"type\":\"BoxZoomTool\"},{\"id\":\"1063\",\"type\":\"SaveTool\"},{\"id\":\"1064\",\"type\":\"ResetTool\"},{\"id\":\"1065\",\"type\":\"HelpTool\"}]},\"id\":\"1066\",\"type\":\"Toolbar\"},{\"attributes\":{\"axis_label\":\"velocity_x [m^-3]\",\"formatter\":{\"id\":\"1192\",\"type\":\"BasicTickFormatter\"},\"plot\":{\"id\":\"1119\",\"subtype\":\"Figure\",\"type\":\"Plot\"},\"ticker\":{\"id\":\"1134\",\"type\":\"BasicTicker\"}},\"id\":\"1133\",\"type\":\"LinearAxis\"},{\"attributes\":{\"bottom_units\":\"screen\",\"fill_alpha\":{\"value\":0.5},\"fill_color\":{\"value\":\"lightgrey\"},\"left_units\":\"screen\",\"level\":\"overlay\",\"line_alpha\":{\"value\":1.0},\"line_color\":{\"value\":\"black\"},\"line_dash\":[4,4],\"line_width\":{\"value\":2},\"plot\":null,\"render_mode\":\"css\",\"right_units\":\"screen\",\"top_units\":\"screen\"},\"id\":\"1068\",\"type\":\"BoxAnnotation\"},{\"attributes\":{},\"id\":\"1134\",\"type\":\"BasicTicker\"},{\"attributes\":{\"dimension\":1,\"plot\":{\"id\":\"1119\",\"subtype\":\"Figure\",\"type\":\"Plot\"},\"ticker\":{\"id\":\"1134\",\"type\":\"BasicTicker\"}},\"id\":\"1137\",\"type\":\"Grid\"},{\"attributes\":{\"source\":{\"id\":\"1075\",\"type\":\"ColumnDataSource\"}},\"id\":\"1079\",\"type\":\"CDSView\"},{\"attributes\":{\"fill_color\":{\"value\":\"#1f77b4\"},\"line_color\":{\"value\":\"#1f77b4\"},\"x\":{\"field\":\"x\"},\"y\":{\"field\":\"y\"}},\"id\":\"1037\",\"type\":\"Circle\"},{\"attributes\":{\"fill_alpha\":{\"value\":0.1},\"fill_color\":{\"value\":\"#1f77b4\"},\"line_alpha\":{\"value\":0.1},\"line_color\":{\"value\":\"#1f77b4\"},\"x\":{\"field\":\"x\"},\"y\":{\"field\":\"y\"}},\"id\":\"1116\",\"type\":\"Circle\"},{\"attributes\":{\"fill_alpha\":{\"value\":0.1},\"fill_color\":{\"value\":\"#1f77b4\"},\"line_alpha\":{\"value\":0.1},\"line_color\":{\"value\":\"#1f77b4\"},\"x\":{\"field\":\"x\"},\"y\":{\"field\":\"y\"}},\"id\":\"1155\",\"type\":\"Circle\"},{\"attributes\":{\"fill_color\":{\"value\":\"#1f77b4\"},\"line_color\":{\"value\":\"#1f77b4\"},\"x\":{\"field\":\"x\"},\"y\":{\"field\":\"y\"}},\"id\":\"1154\",\"type\":\"Circle\"},{\"attributes\":{\"children\":[{\"id\":\"1002\",\"subtype\":\"Figure\",\"type\":\"Plot\"},{\"id\":\"1041\",\"subtype\":\"Figure\",\"type\":\"Plot\"}]},\"id\":\"1178\",\"type\":\"Row\"},{\"attributes\":{\"callback\":null},\"id\":\"1081\",\"type\":\"DataRange1d\"},{\"attributes\":{\"active_drag\":\"auto\",\"active_inspect\":\"auto\",\"active_multi\":null,\"active_scroll\":\"auto\",\"active_tap\":\"auto\",\"tools\":[{\"id\":\"1138\",\"type\":\"PanTool\"},{\"id\":\"1139\",\"type\":\"WheelZoomTool\"},{\"id\":\"1140\",\"type\":\"BoxZoomTool\"},{\"id\":\"1141\",\"type\":\"SaveTool\"},{\"id\":\"1142\",\"type\":\"ResetTool\"},{\"id\":\"1143\",\"type\":\"HelpTool\"}]},\"id\":\"1144\",\"type\":\"Toolbar\"},{\"attributes\":{},\"id\":\"1138\",\"type\":\"PanTool\"},{\"attributes\":{\"callback\":null},\"id\":\"1083\",\"type\":\"DataRange1d\"},{\"attributes\":{},\"id\":\"1139\",\"type\":\"WheelZoomTool\"},{\"attributes\":{},\"id\":\"1085\",\"type\":\"LinearScale\"},{\"attributes\":{\"overlay\":{\"id\":\"1146\",\"type\":\"BoxAnnotation\"}},\"id\":\"1140\",\"type\":\"BoxZoomTool\"},{\"attributes\":{},\"id\":\"1087\",\"type\":\"LinearScale\"},{\"attributes\":{},\"id\":\"1141\",\"type\":\"SaveTool\"},{\"attributes\":{\"axis_label\":\"x [m]\",\"formatter\":{\"id\":\"1184\",\"type\":\"BasicTickFormatter\"},\"plot\":{\"id\":\"1080\",\"subtype\":\"Figure\",\"type\":\"Plot\"},\"ticker\":{\"id\":\"1090\",\"type\":\"BasicTicker\"}},\"id\":\"1089\",\"type\":\"LinearAxis\"},{\"attributes\":{},\"id\":\"1142\",\"type\":\"ResetTool\"},{\"attributes\":{},\"id\":\"1090\",\"type\":\"BasicTicker\"},{\"attributes\":{},\"id\":\"1143\",\"type\":\"HelpTool\"},{\"attributes\":{\"plot\":{\"id\":\"1080\",\"subtype\":\"Figure\",\"type\":\"Plot\"},\"ticker\":{\"id\":\"1090\",\"type\":\"BasicTicker\"}},\"id\":\"1093\",\"type\":\"Grid\"},{\"attributes\":{\"axis_label\":\"temperature [K]\",\"formatter\":{\"id\":\"1182\",\"type\":\"BasicTickFormatter\"},\"plot\":{\"id\":\"1080\",\"subtype\":\"Figure\",\"type\":\"Plot\"},\"ticker\":{\"id\":\"1095\",\"type\":\"BasicTicker\"}},\"id\":\"1094\",\"type\":\"LinearAxis\"},{\"attributes\":{\"bottom_units\":\"screen\",\"fill_alpha\":{\"value\":0.5},\"fill_color\":{\"value\":\"lightgrey\"},\"left_units\":\"screen\",\"level\":\"overlay\",\"line_alpha\":{\"value\":1.0},\"line_color\":{\"value\":\"black\"},\"line_dash\":[4,4],\"line_width\":{\"value\":2},\"plot\":null,\"render_mode\":\"css\",\"right_units\":\"screen\",\"top_units\":\"screen\"},\"id\":\"1146\",\"type\":\"BoxAnnotation\"},{\"attributes\":{},\"id\":\"1095\",\"type\":\"BasicTicker\"},{\"attributes\":{\"dimension\":1,\"plot\":{\"id\":\"1080\",\"subtype\":\"Figure\",\"type\":\"Plot\"},\"ticker\":{\"id\":\"1095\",\"type\":\"BasicTicker\"}},\"id\":\"1098\",\"type\":\"Grid\"},{\"attributes\":{\"data_source\":{\"id\":\"1153\",\"type\":\"ColumnDataSource\"},\"glyph\":{\"id\":\"1154\",\"type\":\"Circle\"},\"hover_glyph\":null,\"muted_glyph\":null,\"nonselection_glyph\":{\"id\":\"1155\",\"type\":\"Circle\"},\"selection_glyph\":null,\"view\":{\"id\":\"1157\",\"type\":\"CDSView\"}},\"id\":\"1156\",\"type\":\"GlyphRenderer\"},{\"attributes\":{\"source\":{\"id\":\"1153\",\"type\":\"ColumnDataSource\"}},\"id\":\"1157\",\"type\":\"CDSView\"},{\"attributes\":{\"fill_color\":{\"value\":\"#1f77b4\"},\"line_color\":{\"value\":\"#1f77b4\"},\"x\":{\"field\":\"x\"},\"y\":{\"field\":\"y\"}},\"id\":\"1115\",\"type\":\"Circle\"},{\"attributes\":{\"below\":[{\"id\":\"1128\",\"type\":\"LinearAxis\"}],\"left\":[{\"id\":\"1133\",\"type\":\"LinearAxis\"}],\"plot_height\":250,\"plot_width\":400,\"renderers\":[{\"id\":\"1128\",\"type\":\"LinearAxis\"},{\"id\":\"1132\",\"type\":\"Grid\"},{\"id\":\"1133\",\"type\":\"LinearAxis\"},{\"id\":\"1137\",\"type\":\"Grid\"},{\"id\":\"1146\",\"type\":\"BoxAnnotation\"},{\"id\":\"1156\",\"type\":\"GlyphRenderer\"}],\"title\":{\"id\":\"1190\",\"type\":\"Title\"},\"toolbar\":{\"id\":\"1144\",\"type\":\"Toolbar\"},\"toolbar_location\":null,\"x_range\":{\"id\":\"1120\",\"type\":\"DataRange1d\"},\"x_scale\":{\"id\":\"1124\",\"type\":\"LinearScale\"},\"y_range\":{\"id\":\"1122\",\"type\":\"DataRange1d\"},\"y_scale\":{\"id\":\"1126\",\"type\":\"LinearScale\"}},\"id\":\"1119\",\"subtype\":\"Figure\",\"type\":\"Plot\"},{\"attributes\":{\"plot\":null,\"text\":\"\"},\"id\":\"1159\",\"type\":\"Title\"},{\"attributes\":{\"children\":[{\"id\":\"1178\",\"type\":\"Row\"},{\"id\":\"1199\",\"type\":\"Row\"}]},\"id\":\"1200\",\"type\":\"Column\"},{\"attributes\":{\"active_drag\":\"auto\",\"active_inspect\":\"auto\",\"active_multi\":null,\"active_scroll\":\"auto\",\"active_tap\":\"auto\",\"tools\":[{\"id\":\"1099\",\"type\":\"PanTool\"},{\"id\":\"1100\",\"type\":\"WheelZoomTool\"},{\"id\":\"1101\",\"type\":\"BoxZoomTool\"},{\"id\":\"1102\",\"type\":\"SaveTool\"},{\"id\":\"1103\",\"type\":\"ResetTool\"},{\"id\":\"1104\",\"type\":\"HelpTool\"}]},\"id\":\"1105\",\"type\":\"Toolbar\"},{\"attributes\":{},\"id\":\"1099\",\"type\":\"PanTool\"},{\"attributes\":{},\"id\":\"1163\",\"type\":\"BasicTickFormatter\"},{\"attributes\":{},\"id\":\"1100\",\"type\":\"WheelZoomTool\"},{\"attributes\":{},\"id\":\"1165\",\"type\":\"UnionRenderers\"},{\"attributes\":{\"overlay\":{\"id\":\"1107\",\"type\":\"BoxAnnotation\"}},\"id\":\"1101\",\"type\":\"BoxZoomTool\"},{\"attributes\":{},\"id\":\"1166\",\"type\":\"Selection\"},{\"attributes\":{},\"id\":\"1102\",\"type\":\"SaveTool\"},{\"attributes\":{\"plot\":null,\"text\":\"\"},\"id\":\"1169\",\"type\":\"Title\"},{\"attributes\":{},\"id\":\"1103\",\"type\":\"ResetTool\"},{\"attributes\":{},\"id\":\"1173\",\"type\":\"BasicTickFormatter\"},{\"attributes\":{},\"id\":\"1104\",\"type\":\"HelpTool\"},{\"attributes\":{},\"id\":\"1175\",\"type\":\"UnionRenderers\"},{\"attributes\":{},\"id\":\"1176\",\"type\":\"Selection\"},{\"attributes\":{\"bottom_units\":\"screen\",\"fill_alpha\":{\"value\":0.5},\"fill_color\":{\"value\":\"lightgrey\"},\"left_units\":\"screen\",\"level\":\"overlay\",\"line_alpha\":{\"value\":1.0},\"line_color\":{\"value\":\"black\"},\"line_dash\":[4,4],\"line_width\":{\"value\":2},\"plot\":null,\"render_mode\":\"css\",\"right_units\":\"screen\",\"top_units\":\"screen\"},\"id\":\"1107\",\"type\":\"BoxAnnotation\"},{\"attributes\":{\"children\":[{\"id\":\"1080\",\"subtype\":\"Figure\",\"type\":\"Plot\"},{\"id\":\"1119\",\"subtype\":\"Figure\",\"type\":\"Plot\"}]},\"id\":\"1199\",\"type\":\"Row\"},{\"attributes\":{\"plot\":null,\"text\":\"\"},\"id\":\"1180\",\"type\":\"Title\"},{\"attributes\":{\"data_source\":{\"id\":\"1114\",\"type\":\"ColumnDataSource\"},\"glyph\":{\"id\":\"1115\",\"type\":\"Circle\"},\"hover_glyph\":null,\"muted_glyph\":null,\"nonselection_glyph\":{\"id\":\"1116\",\"type\":\"Circle\"},\"selection_glyph\":null,\"view\":{\"id\":\"1118\",\"type\":\"CDSView\"}},\"id\":\"1117\",\"type\":\"GlyphRenderer\"},{\"attributes\":{},\"id\":\"1182\",\"type\":\"BasicTickFormatter\"},{\"attributes\":{\"source\":{\"id\":\"1114\",\"type\":\"ColumnDataSource\"}},\"id\":\"1118\",\"type\":\"CDSView\"},{\"attributes\":{},\"id\":\"1184\",\"type\":\"BasicTickFormatter\"},{\"attributes\":{\"callback\":null,\"data\":{\"x\":{\"__ndarray__\":\"6/8/5ZwwokJJlsedECetQsnFmcN0XLdC1rF+s2G4wkKWaBawqADOQidoMrHSCthCSXZl4RtE40Iww8HfmODuQiDM0hZGvvhCafW9+ujTA0NhXyCHEMcPQy3mmeb0dhlDn7TZZ+dnJEPI2fwwIFowQ6eL4C0GNTpD9h4AdDYARUMJAupLLdRQQw5xex2i+FpD2osMVPacZUPdr0djyVFxQw==\",\"dtype\":\"float64\",\"shape\":[20]},\"y\":[0.0,0.0,0.0,0.0,0.0,0.0,0.0,0.0,0.0,0.0,0.0,0.0,0.0,0.0,0.0,0.0,0.0,0.0,0.0,0.0]},\"selected\":{\"id\":\"1197\",\"type\":\"Selection\"},\"selection_policy\":{\"id\":\"1196\",\"type\":\"UnionRenderers\"}},\"id\":\"1153\",\"type\":\"ColumnDataSource\"},{\"attributes\":{},\"id\":\"1186\",\"type\":\"UnionRenderers\"},{\"attributes\":{\"callback\":null},\"id\":\"1120\",\"type\":\"DataRange1d\"},{\"attributes\":{\"ticker\":null},\"id\":\"1161\",\"type\":\"LogTickFormatter\"},{\"attributes\":{},\"id\":\"1187\",\"type\":\"Selection\"},{\"attributes\":{\"callback\":null},\"id\":\"1122\",\"type\":\"DataRange1d\"}],\"root_ids\":[\"1203\"]},\"title\":\"Bokeh Application\",\"version\":\"1.0.0\"}};\n",
       "  var render_items = [{\"docid\":\"5e5003e6-d7ff-4309-a2ec-8f250bb462fc\",\"roots\":{\"1203\":\"fbe776e6-b770-47f6-bdd1-b817a753204b\"}}];\n",
       "  root.Bokeh.embed.embed_items_notebook(docs_json, render_items);\n",
       "\n",
       "  }\n",
       "  if (root.Bokeh !== undefined) {\n",
       "    embed_document(root);\n",
       "  } else {\n",
       "    var attempts = 0;\n",
       "    var timer = setInterval(function(root) {\n",
       "      if (root.Bokeh !== undefined) {\n",
       "        embed_document(root);\n",
       "        clearInterval(timer);\n",
       "      }\n",
       "      attempts++;\n",
       "      if (attempts > 100) {\n",
       "        console.log(\"Bokeh: ERROR: Unable to run BokehJS code because BokehJS library is missing\");\n",
       "        clearInterval(timer);\n",
       "      }\n",
       "    }, 10, root)\n",
       "  }\n",
       "})(window);"
      ],
      "application/vnd.bokehjs_exec.v0+json": ""
     },
     "metadata": {
      "application/vnd.bokehjs_exec.v0+json": {
       "id": "1203"
      }
     },
     "output_type": "display_data"
    }
   ],
   "source": [
    "# Plot model\n",
    "\n",
    "plot_model_1 = figure (plot_width=400, plot_height=250, y_axis_type='log')\n",
    "plot_model_1.circle (model.x, model.density)\n",
    "plot_model_1.xaxis.axis_label = \"x [m]\"\n",
    "plot_model_1.yaxis.axis_label = \"density [m^-3]\"\n",
    "\n",
    "plot_model_2 = figure (plot_width=400, plot_height=250, y_axis_type='log')\n",
    "plot_model_2.circle (model.x, model.abundance)\n",
    "plot_model_2.xaxis.axis_label = \"x [m]\"\n",
    "plot_model_2.yaxis.axis_label = \"abundance [xm^-3]\"\n",
    "\n",
    "plot_model_3 = figure(plot_width=400, plot_height=250)\n",
    "plot_model_3.circle (model.x, model.temperature)\n",
    "plot_model_3.xaxis.axis_label = \"x [m]\"\n",
    "plot_model_3.yaxis.axis_label = \"temperature [K]\"\n",
    "\n",
    "plot_model_4 = figure(plot_width=400, plot_height=250)\n",
    "plot_model_4.circle (model.x, model.vx)\n",
    "plot_model_4.xaxis.axis_label = \"x [m]\"\n",
    "plot_model_4.yaxis.axis_label = \"velocity_x [m^-3]\"\n",
    "\n",
    "plot_model = gridplot ([[plot_model_1, plot_model_2],[plot_model_3, plot_model_4]])\n",
    "\n",
    "show (plot_model)"
   ]
  },
  {
   "cell_type": "markdown",
   "metadata": {},
   "source": [
    "## 2) Compile Magrittte and Run Model"
   ]
  },
  {
   "cell_type": "code",
   "execution_count": null,
   "metadata": {
    "ExecuteTime": {
     "end_time": "2019-01-03T18:39:02.609871Z",
     "start_time": "2019-01-03T18:38:45.838380Z"
    },
    "scrolled": true
   },
   "outputs": [
    {
     "name": "stdout",
     "output_type": "stream",
     "text": [
      "-- Found OpenMP_C: -fopenmp\n",
      "-- Found OpenMP_CXX: -fopenmp\n",
      "-- Found OpenMP_C: -fopenmp\n",
      "-- Found OpenMP_CXX: -fopenmp\n",
      "-- Found OpenMP_C: -fopenmp\n",
      "-- Found OpenMP_CXX: -fopenmp\n",
      "-- Found OpenMP_C: -fopenmp\n",
      "-- Found OpenMP_CXX: -fopenmp\n",
      "-- /opt/intel/compilers_and_libraries_2017.4.196/linux/mpi/intel64/include\n",
      "-- Found OpenMP_C: -fopenmp\n",
      "-- Found OpenMP_CXX: -fopenmp\n",
      "-- Configuring done\n",
      "-- Generating done\n",
      "-- Build files have been written to: /home/frederik/MagritteProjects/vanZadelhoff/problem_1/build\n",
      "[  9%] Built target _HEALPix\n",
      "[  9%] Built target _TEST_RT_MAIN\n",
      "[ 14%] Built target _TEST_MAIN\n",
      "Scanning dependencies of target _RADIATIVE_TRANSFER\n",
      "[ 16%] Building CXX object src/RadiativeTransfer/src/CMakeFiles/_RADIATIVE_TRANSFER.dir/temperature.cpp.o\n",
      "[ 19%] Building CXX object src/RadiativeTransfer/src/CMakeFiles/_RADIATIVE_TRANSFER.dir/frequencies.cpp.o\n",
      "[ 21%] Building CXX object src/RadiativeTransfer/src/CMakeFiles/_RADIATIVE_TRANSFER.dir/lines.cpp.o\n",
      "[ 23%] Building CXX object src/RadiativeTransfer/src/CMakeFiles/_RADIATIVE_TRANSFER.dir/radiation.cpp.o\n",
      "[ 26%] Building CXX object src/RadiativeTransfer/src/CMakeFiles/_RADIATIVE_TRANSFER.dir/raypair.cpp.o\n",
      "[ 28%] Building CXX object src/RadiativeTransfer/src/CMakeFiles/_RADIATIVE_TRANSFER.dir/raydata.cpp.o\n",
      "[ 30%] Building CXX object src/RadiativeTransfer/src/CMakeFiles/_RADIATIVE_TRANSFER.dir/image.cpp.o\n",
      "[ 33%] Linking CXX static library lib_RADIATIVE_TRANSFER.a\n",
      "[ 40%] Built target _RADIATIVE_TRANSFER\n",
      "Scanning dependencies of target _LINES\n",
      "[ 42%] Building CXX object src/CMakeFiles/_LINES.dir/linedata.cpp.o\n",
      "[ 45%] Building CXX object src/CMakeFiles/_LINES.dir/levels.cpp.o\n",
      "[ 47%] Building CXX object src/CMakeFiles/_LINES.dir/levels_iteration.cpp.o\n",
      "[ 50%] Building CXX object src/CMakeFiles/_LINES.dir/acceleration_Ng.cpp.o\n",
      "[ 52%] Linking CXX static library lib_LINES.a\n",
      "[ 52%] Built target _LINES\n",
      "Scanning dependencies of target test_rays.exe\n",
      "[ 54%] Building CXX object src/RadiativeTransfer/tests/CMakeFiles/test_rays.exe.dir/test_rays.cpp.o\n",
      "[ 57%] Linking CXX executable test_heapsort.exe\n",
      "Scanning dependencies of target test_profile.exe\n",
      "Scanning dependencies of target test_frequencies.exe\n",
      "[ 61%] Building CXX object src/RadiativeTransfer/tests/CMakeFiles/test_frequencies.exe.dir/test_frequencies.cpp.o\n",
      "[ 61%] Building CXX object src/RadiativeTransfer/tests/CMakeFiles/test_profile.exe.dir/test_profile.cpp.o\n",
      "[ 64%] Built target test_heapsort.exe\n",
      "Scanning dependencies of target test_cells.exe\n",
      "[ 66%] Building CXX object src/RadiativeTransfer/tests/CMakeFiles/test_cells.exe.dir/test_cells.cpp.o\n",
      "[ 69%] Linking CXX executable test_rays.exe\n",
      "[ 69%] Built target test_rays.exe\n",
      "Scanning dependencies of target test_solve_ray.exe\n",
      "[ 71%] Building CXX object src/RadiativeTransfer/tests/CMakeFiles/test_solve_ray.exe.dir/test_solve_ray.cpp.o\n",
      "[ 73%] Linking CXX executable test_profile.exe\n",
      "[ 73%] Built target test_profile.exe\n",
      "Scanning dependencies of target test_lines.exe\n",
      "[ 76%] Building CXX object src/RadiativeTransfer/tests/CMakeFiles/test_lines.exe.dir/test_lines.cpp.o\n",
      "[ 78%] Linking CXX executable test_cells.exe\n",
      "[ 78%] Built target test_cells.exe\n",
      "[ 80%] Linking CXX executable test_interpolation.exe\n",
      "[ 83%] Built target test_interpolation.exe\n",
      "Scanning dependencies of target example_Lines.exe\n",
      "[ 85%] Building CXX object examples/CMakeFiles/example_Lines.exe.dir/example_Lines.cpp.o\n",
      "[ 88%] Linking CXX executable test_solve_ray.exe\n",
      "[ 88%] Built target test_solve_ray.exe\n",
      "Scanning dependencies of target example_iteration_LTE.exe\n",
      "[ 90%] Linking CXX executable test_lines.exe\n",
      "[ 92%] Building CXX object examples/CMakeFiles/example_iteration_LTE.exe.dir/example_iteration_LTE.cpp.o\n",
      "[ 92%] Built target test_lines.exe\n",
      "[ 95%] Linking CXX executable test_frequencies.exe\n",
      "[ 95%] Built target test_frequencies.exe\n",
      "[ 97%] Linking CXX executable example_iteration_LTE.exe\n",
      "[ 97%] Built target example_iteration_LTE.exe\n",
      "[100%] Linking CXX executable example_Lines.exe\n",
      "[100%] Built target example_Lines.exe\n",
      "WE ARE RUNNING\n"
     ]
    }
   ],
   "source": [
    "compile (MagritteSetupFolder, ProjectFolder)\n",
    "execute (MagritteSetupFolder, ProjectFolder)"
   ]
  },
  {
   "cell_type": "markdown",
   "metadata": {},
   "source": [
    "## 3) Get Magritte output"
   ]
  },
  {
   "cell_type": "code",
   "execution_count": null,
   "metadata": {
    "ExecuteTime": {
     "end_time": "2019-01-03T16:58:01.853055Z",
     "start_time": "2019-01-03T16:57:59.514865Z"
    }
   },
   "outputs": [],
   "source": [
    "# Read Magritte output\n",
    "\n",
    "ioFolders = glob(ProjectFolder + 'io/*/')\n",
    "ioFolders.sort()\n",
    "\n",
    "inputFolders  = [folder +  'input/' for folder in ioFolders]\n",
    "outputFolders = [folder + 'output/' for folder in ioFolders]\n",
    "\n",
    "lastOutput = outputFolders[-1]\n",
    "lastInput  =  inputFolders[-1]\n",
    "\n",
    "pops_files = glob(lastOutput + 'populations_0*.txt')\n",
    "Jeff_files = glob(lastOutput + 'Jeff_0*.txt')\n",
    "J_files    = glob(lastOutput + 'J_*.txt')\n",
    "G_files    = glob(lastOutput + 'G_*.txt')\n",
    "nu_files   = glob(lastOutput + 'frequencies_nu*.txt')\n",
    "lnr_files  = glob(lastOutput + 'frequencies_line_nr*.txt')\n",
    "eta_files  = glob(lastOutput + 'eta_0*.txt')\n",
    "chi_files  = glob(lastOutput + 'chi_0*.txt')\n",
    "\n",
    "pops_files.sort()\n",
    "Jeff_files.sort()\n",
    "eta_files.sort()\n",
    "chi_files.sort()\n",
    "\n",
    "pops_2D_data = [np.loadtxt(fileName) for fileName in pops_files]\n",
    "Jeff_2D_data = [np.loadtxt(fileName) for fileName in Jeff_files]\n",
    "J_2D_data    = [np.loadtxt(fileName) for fileName in J_files]\n",
    "G_2D_data    = [np.loadtxt(fileName) for fileName in G_files]\n",
    "nu_2D_data   = [np.loadtxt(fileName) for fileName in nu_files]\n",
    "lnr_2D_data  = [np.loadtxt(fileName) for fileName in lnr_files]\n",
    "eta_2D_data  = [np.loadtxt(fileName) for fileName in eta_files]\n",
    "chi_2D_data  = [np.loadtxt(fileName) for fileName in chi_files]\n",
    "\n",
    "# Import linedata\n",
    "lineData = LineData (ProjectFolder + '/Magritte_files/linedata/test.txt')"
   ]
  },
  {
   "cell_type": "code",
   "execution_count": null,
   "metadata": {},
   "outputs": [],
   "source": []
  },
  {
   "cell_type": "markdown",
   "metadata": {},
   "source": [
    "### Map sphere to 1D model"
   ]
  },
  {
   "cell_type": "code",
   "execution_count": null,
   "metadata": {
    "ExecuteTime": {
     "end_time": "2019-01-03T16:58:05.600705Z",
     "start_time": "2019-01-03T16:58:01.854953Z"
    }
   },
   "outputs": [],
   "source": [
    "# Map shpere to 1D model\n",
    "\n",
    "#pops_data = deSphere(cellsInShell, pops_2D_data)\n",
    "#pops_var  = sphereVar(cellsInShell, pops_2D_data)\n",
    "\n",
    "#J_data = deSphere(cellsInShell, J_2D_data)\n",
    "#J_var  = sphereVar(cellsInShell, J_2D_data)\n",
    "\n",
    "#G_data = deSphere(cellsInShell, G_2D_data)\n",
    "#G_var  = sphereVar(cellsInShell, G_2D_data)\n",
    "\n",
    "#Jeff_data = deSphere(cellsInShell, Jeff_2D_data)\n",
    "#Jeff_var  = sphereVar(cellsInShell, Jeff_2D_data)\n",
    "\n",
    "#nu_data = deSphere(cellsInShell, nu_2D_data)\n",
    "#nu_var  = sphereVar(cellsInShell, nu_2D_data)\n",
    "\n",
    "#lnr_data = deSphere(cellsInShell, lnr_2D_data)\n",
    "#lnr_var  = sphereVar(cellsInShell, lnr_2D_data)\n",
    "\n",
    "#etaR   = deSphere(cellsInShell, eta_data)\n",
    "#etaVar = sphereVar(cellsInShell, eta_data)\n",
    "\n",
    "#chiR   = deSphere(cellsInShell, chi_data)\n",
    "#chiVar = sphereVar(cellsInShell, chi_data)\n",
    "\n",
    "#for s in range(model.ncells):\n",
    "    #print(f'pops_var  = {np.max(pops_var[0][s])}')\n",
    "    #print(f'Jeff_var  = {np.max(Jeff_var[0][s])}')\n",
    "    #print(f'J_var     = {np.max(J_var[0][s])}')\n",
    "    #print(f'nu_var    = {np.max(nu_var[0][s])}')\n",
    "    #print(f'lnr_var   = {np.max(lnr_var[0][s])}')\n",
    "\n",
    "#print(np.max(etaVar))\n",
    "#print(np.max(chiVar))"
   ]
  },
  {
   "cell_type": "code",
   "execution_count": null,
   "metadata": {
    "ExecuteTime": {
     "end_time": "2019-01-03T18:16:01.103660Z",
     "start_time": "2019-01-03T18:16:01.097442Z"
    }
   },
   "outputs": [],
   "source": [
    "# Load Ratran results\n",
    "\n",
    "data_ratran = np.loadtxt('/home/frederik/Codes/Ratran_copy/FrederiksExapmle/output/vanZadelhoff_problem_1a.pop', skiprows=14)\n",
    "x1_ratran    = data_ratran[:,1]\n",
    "x2_ratran    = data_ratran[:,2]\n",
    "pops_ratran = data_ratran[:,9:]\n",
    "\n",
    "x_ratran = 0.5 * (x1_ratran + x2_ratran)\n",
    "\n",
    "#x,y,z, H2, T, abn, conv, p0, p1 = np.loadtxt('/home/frederik/Dropbox/Astro/Ward/vanZadelhoff/populations_1a_turb_therm.pop',skiprows=1, unpack=True)\n",
    "\n",
    "#r = np.sqrt(x*x + y*y + z*z)"
   ]
  },
  {
   "cell_type": "code",
   "execution_count": null,
   "metadata": {},
   "outputs": [],
   "source": [
    "# Load van Zadelhoff results\n",
    "\n",
    "data_vZ = np.loadtxt('/home/frederik/Dropbox/Astro/Benchmarks/vanZadelhoff/Leen/case1a_zadelhoff.dat')\n",
    "x_vZ    = data_vZ[:,0]*1.0E-2\n",
    "pops_vZ = data_vZ[:,1]"
   ]
  },
  {
   "cell_type": "code",
   "execution_count": null,
   "metadata": {},
   "outputs": [],
   "source": [
    "x_ratran"
   ]
  },
  {
   "cell_type": "markdown",
   "metadata": {},
   "source": [
    "### Plot output"
   ]
  },
  {
   "cell_type": "code",
   "execution_count": null,
   "metadata": {
    "ExecuteTime": {
     "end_time": "2019-01-03T18:16:01.823992Z",
     "start_time": "2019-01-03T18:16:01.817529Z"
    },
    "code_folding": [
     0
    ]
   },
   "outputs": [],
   "source": [
    "# Plot functions\n",
    "\n",
    "def color(s):\n",
    "    ns = int((s_max-s_min) / s_step + 1)\n",
    "    es = int((s    -s_min) / s_step)\n",
    "    return cividis(ns)[es]\n",
    "\n",
    "def legend(s):\n",
    "    return f'{s}'\n",
    "\n",
    "def bokeh_log_plot(title, x, y, xlabel, ylabel):\n",
    "    return"
   ]
  },
  {
   "cell_type": "code",
   "execution_count": null,
   "metadata": {
    "ExecuteTime": {
     "end_time": "2019-01-03T18:16:02.124857Z",
     "start_time": "2019-01-03T18:16:02.120672Z"
    }
   },
   "outputs": [],
   "source": [
    "s_min  = 0\n",
    "s_max  = model.ncells\n",
    "s_step = 1"
   ]
  },
  {
   "cell_type": "code",
   "execution_count": null,
   "metadata": {
    "ExecuteTime": {
     "end_time": "2019-01-03T18:16:02.349004Z",
     "start_time": "2019-01-03T18:16:02.343701Z"
    }
   },
   "outputs": [],
   "source": [
    "outNr = -1"
   ]
  },
  {
   "cell_type": "code",
   "execution_count": null,
   "metadata": {
    "ExecuteTime": {
     "end_time": "2019-01-03T18:16:03.433035Z",
     "start_time": "2019-01-03T18:16:03.304957Z"
    }
   },
   "outputs": [],
   "source": [
    "# Level populations\n",
    "\n",
    "plot = figure (title='Level populations', width=600, height=600, x_axis_type='log', y_axis_type='log')\n",
    "x  = np.sqrt(np.power(model2D.x, 2) + np.power(model2D.y,2))\n",
    "y1 = pops_2D_data[outNr][:,0]/model2D.abundance\n",
    "y2 = pops_2D_data[outNr][:,1]/model2D.abundance\n",
    "#plot.circle (x, y1, color='red',  legend='lower level')\n",
    "plot.line (x, y2, color='blue', legend='Magritte')\n",
    "#plot.circle (x_ratran, pops_ratran[:,0], color='yellow')\n",
    "plot.line (x_ratran, pops_ratran[:,1], color='red', legend='Ratran')\n",
    "#plot.circle (r, p0, color='white')\n",
    "#plot.circle (r, p1, color='white')\n",
    "plot.line (x_vZ, pops_vZ, color='green', legend='van Zadelhoff')\n",
    "plot.xaxis.axis_label = \"r [m]\"\n",
    "plot.yaxis.axis_label = \"population\"\n",
    "plot.legend.location = \"center_right\"\n",
    "plot.y_range = Range1d(0.1, 1.0)\n",
    "plot.x_range = Range1d(1.0E13, 1.0E17)\n",
    "show (plot)"
   ]
  },
  {
   "cell_type": "code",
   "execution_count": null,
   "metadata": {
    "ExecuteTime": {
     "end_time": "2019-01-05T09:50:24.951932Z",
     "start_time": "2019-01-05T09:50:24.937071Z"
    }
   },
   "outputs": [],
   "source": [
    "# Mean intensity\n",
    "\n",
    "plot = figure (title='Mean intensity', width=700, height=400, y_axis_type='log', x_axis_type='log')\n",
    "x  = np.sqrt(np.power(model2D.x, 2) + np.power(model2D.y,2))\n",
    "y1 = Jeff_2D_data[-1][:]\n",
    "plot.circle (x, y1, color='yellow')\n",
    "plot.xaxis.axis_label = \"r [m]\"\n",
    "plot.yaxis.axis_label = \"mean intensity [W m^-2]\"\n",
    "show (plot)"
   ]
  },
  {
   "cell_type": "code",
   "execution_count": null,
   "metadata": {
    "ExecuteTime": {
     "end_time": "2019-01-02T17:40:00.759460Z",
     "start_time": "2019-01-02T17:40:00.133315Z"
    },
    "scrolled": false
   },
   "outputs": [],
   "source": [
    "# Spectrum\n",
    "\n",
    "plot = figure (title='Spectrum', width=700, height=500, y_axis_type='log')\n",
    "for s in range(s_min, s_max, s_step):\n",
    "    x = nu_2D_data[outNr][s]\n",
    "    y =  J_2D_data[outNr][s]\n",
    "    plot.line(x, y, color=color(s), legend=legend(s))\n",
    "plot.xaxis.axis_label = \"frequencies [Hz]\"\n",
    "plot.yaxis.axis_label = \"Mean intensity [W/m^2]\"\n",
    "show(plot)"
   ]
  },
  {
   "cell_type": "code",
   "execution_count": null,
   "metadata": {
    "ExecuteTime": {
     "end_time": "2019-01-02T17:40:04.413568Z",
     "start_time": "2019-01-02T17:40:03.784950Z"
    },
    "scrolled": true
   },
   "outputs": [],
   "source": [
    "# Flux (G) spectrum\n",
    "\n",
    "plot = figure (title='Spectrum', width=700, height=500)\n",
    "for s in range(s_min, s_max, s_step):\n",
    "    x = nu_2D_data[outNr][s]\n",
    "    y =  G_2D_data[outNr][s]\n",
    "    plot.line(x, y, color=color(s), legend=legend(s))\n",
    "plot.xaxis.axis_label = \"frequencies [Hz]\"\n",
    "plot.yaxis.axis_label = \"Mean intensity [W/m^2]\"\n",
    "show(plot)"
   ]
  },
  {
   "cell_type": "code",
   "execution_count": null,
   "metadata": {
    "ExecuteTime": {
     "end_time": "2018-12-19T09:47:02.530599Z",
     "start_time": "2018-12-19T09:47:02.527588Z"
    }
   },
   "outputs": [],
   "source": [
    "line = 0"
   ]
  },
  {
   "cell_type": "code",
   "execution_count": null,
   "metadata": {
    "ExecuteTime": {
     "end_time": "2019-01-05T09:49:35.961536Z",
     "start_time": "2019-01-05T09:49:35.949357Z"
    },
    "code_folding": []
   },
   "outputs": [],
   "source": [
    "# Line\n",
    "\n",
    "plot = figure (title='Line model', width=400, height=400, y_axis_type=\"log\")\n",
    "for s in range (s_min, s_max, s_step):\n",
    "    x = nu_2D_data[0][s]\n",
    "    y =  J_2D_data[0][s]\n",
    "    plot.circle (x, y, color=color(s), legend=legend(s))\n",
    "    \n",
    "show (plot)"
   ]
  },
  {
   "cell_type": "code",
   "execution_count": null,
   "metadata": {},
   "outputs": [],
   "source": []
  }
 ],
 "metadata": {
  "kernelspec": {
   "display_name": "Python 3",
   "language": "python",
   "name": "python3"
  },
  "language_info": {
   "codemirror_mode": {
    "name": "ipython",
    "version": 3
   },
   "file_extension": ".py",
   "mimetype": "text/x-python",
   "name": "python",
   "nbconvert_exporter": "python",
   "pygments_lexer": "ipython3",
   "version": "3.6.7"
  }
 },
 "nbformat": 4,
 "nbformat_minor": 2
}
