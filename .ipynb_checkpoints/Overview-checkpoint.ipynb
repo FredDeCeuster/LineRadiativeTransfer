{
 "cells": [
  {
   "cell_type": "markdown",
   "metadata": {},
   "source": [
    "# Overview of the notebooks\n",
    "---"
   ]
  },
  {
   "cell_type": "markdown",
   "metadata": {},
   "source": [
    "## Analytic tests for Line Radiative transfer\n",
    "-   [1D homogeneous LTE, all constant](analytical_models_1D_0.ipynb)\n",
    "-   [1D homogeneous LTE, constant velocity gradient](analytical_models_1D_1.ipynb)\n",
    "-   [1D homogeneous LTE, constant temperature gradient](analytical_models_1D_2.ipynb)\n",
    "-   [3D homogeneous LTE sphere, all constant](analytical_models_3D_0.ipynb)\n",
    "-   [3D homogeneous LTE sphere, constant velocity gradient](analytical_models_3D_1.ipynb)"
   ]
  },
  {
   "cell_type": "markdown",
   "metadata": {},
   "source": [
    "## Benchmarks against RATRAN"
   ]
  },
  {
   "cell_type": "markdown",
   "metadata": {},
   "source": [
    "-   [Example 1](benchmark_ratran_example_1.ipynb)"
   ]
  },
  {
   "cell_type": "code",
   "execution_count": null,
   "metadata": {},
   "outputs": [],
   "source": []
  }
 ],
 "metadata": {
  "kernelspec": {
   "display_name": "Python 3",
   "language": "python",
   "name": "python3"
  },
  "language_info": {
   "codemirror_mode": {
    "name": "ipython",
    "version": 3
   },
   "file_extension": ".py",
   "mimetype": "text/x-python",
   "name": "python",
   "nbconvert_exporter": "python",
   "pygments_lexer": "ipython3",
   "version": "3.6.6"
  }
 },
 "nbformat": 4,
 "nbformat_minor": 2
}
