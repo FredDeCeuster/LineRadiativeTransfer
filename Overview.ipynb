{
 "cells": [
  {
   "cell_type": "markdown",
   "metadata": {},
   "source": [
    "# Tests & Benchmarks\n",
    "---"
   ]
  },
  {
   "cell_type": "markdown",
   "metadata": {},
   "source": [
    "## Analytic tests for Line Radiative transfer\n",
    "---\n",
    "\n",
    "### 1D models\n",
    "- [x]  [1D homogeneous LTE, all constant](analytical_models_1D_0.ipynb)\n",
    "- [x]  [1D homogeneous LTE, constant velocity gradient](analytical_models_1D_1.ipynb)\n",
    "- [x]  [1D homogeneous LTE, constant temperature gradient](analytical_models_1D_2.ipynb)\n",
    "\n",
    "### 2D models\n",
    "- [x]  [2D homogeneous LTE sphere, all constant](analytical_models_2D_0.ipynb)\n",
    "- [x]  [2D homogeneous LTE sphere, constant velocity gradient](analytical_models_2D_1.ipynb)\n",
    "\n",
    "### 3D models\n",
    "- [x]  [3D homogeneous LTE sphere, all constant](analytical_models_3D_0.ipynb)\n",
    "- [x]  [3D homogeneous LTE sphere, constant velocity gradient](analytical_models_3D_1.ipynb)"
   ]
  },
  {
   "cell_type": "markdown",
   "metadata": {},
   "source": [
    "## Cross-code benchmarks\n",
    "---\n",
    "\n",
    "### Line Radiative Transfer (van Zadelhoff et al. 2002)\n",
    "- [ ]  [Problem 1a: 2-level species (low optical depth)](vanZadelhoff_1a.ipynb)\n",
    "- [ ]  [Problem 1b: 2-level species (high optical depth)](vanZadelhoff_1b.ipynb)\n",
    "- [ ]  [Problem 2a: HCO+ in Shu collapse model (low optical depth)](vanZadelhoff_2a.ipynb)\n",
    "- [ ]  [Problem 2b: HCO+ in Shu collapse model (high optical depth)](vanZadelhoff_2b.ipynb)\n",
    "\n",
    "### Dust Radiative Transfer TRUST (Gordon et al. 2017)\n",
    "- [ ]  [Externally illuminated slab model](TRUST.ipynb)"
   ]
  },
  {
   "cell_type": "code",
   "execution_count": null,
   "metadata": {},
   "outputs": [],
   "source": []
  }
 ],
 "metadata": {
  "kernelspec": {
   "display_name": "Python 3",
   "language": "python",
   "name": "python3"
  },
  "language_info": {
   "codemirror_mode": {
    "name": "ipython",
    "version": 3
   },
   "file_extension": ".py",
   "mimetype": "text/x-python",
   "name": "python",
   "nbconvert_exporter": "python",
   "pygments_lexer": "ipython3",
   "version": "3.6.7"
  }
 },
 "nbformat": 4,
 "nbformat_minor": 2
}
