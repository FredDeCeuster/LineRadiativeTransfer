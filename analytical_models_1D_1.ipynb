{
 "cells": [
  {
   "cell_type": "markdown",
   "metadata": {},
   "source": [
    "# Line RT: 1D homogeneous,\n",
    "# velocity gradient"
   ]
  },
  {
   "cell_type": "markdown",
   "metadata": {},
   "source": [
    "## 0) Setup"
   ]
  },
  {
   "cell_type": "code",
   "execution_count": 1,
   "metadata": {
    "code_folding": [
     0
    ]
   },
   "outputs": [],
   "source": [
    "# Define Magritte folders\n",
    "\n",
    "MagritteSetupFolder = '/home/frederik/Dropbox/Astro/Magritte/modules/setup/'\n",
    "ProjectFolder       = '/home/frederik/MagritteProjects/Lines_1D_LTE/'"
   ]
  },
  {
   "cell_type": "code",
   "execution_count": 2,
   "metadata": {
    "code_folding": []
   },
   "outputs": [
    {
     "data": {
      "text/html": [
       "\n",
       "    <div class=\"bk-root\">\n",
       "        <a href=\"https://bokeh.pydata.org\" target=\"_blank\" class=\"bk-logo bk-logo-small bk-logo-notebook\"></a>\n",
       "        <span id=\"1001\">Loading BokehJS ...</span>\n",
       "    </div>"
      ]
     },
     "metadata": {},
     "output_type": "display_data"
    },
    {
     "data": {
      "application/javascript": [
       "\n",
       "(function(root) {\n",
       "  function now() {\n",
       "    return new Date();\n",
       "  }\n",
       "\n",
       "  var force = true;\n",
       "\n",
       "  if (typeof (root._bokeh_onload_callbacks) === \"undefined\" || force === true) {\n",
       "    root._bokeh_onload_callbacks = [];\n",
       "    root._bokeh_is_loading = undefined;\n",
       "  }\n",
       "\n",
       "  var JS_MIME_TYPE = 'application/javascript';\n",
       "  var HTML_MIME_TYPE = 'text/html';\n",
       "  var EXEC_MIME_TYPE = 'application/vnd.bokehjs_exec.v0+json';\n",
       "  var CLASS_NAME = 'output_bokeh rendered_html';\n",
       "\n",
       "  /**\n",
       "   * Render data to the DOM node\n",
       "   */\n",
       "  function render(props, node) {\n",
       "    var script = document.createElement(\"script\");\n",
       "    node.appendChild(script);\n",
       "  }\n",
       "\n",
       "  /**\n",
       "   * Handle when an output is cleared or removed\n",
       "   */\n",
       "  function handleClearOutput(event, handle) {\n",
       "    var cell = handle.cell;\n",
       "\n",
       "    var id = cell.output_area._bokeh_element_id;\n",
       "    var server_id = cell.output_area._bokeh_server_id;\n",
       "    // Clean up Bokeh references\n",
       "    if (id != null && id in Bokeh.index) {\n",
       "      Bokeh.index[id].model.document.clear();\n",
       "      delete Bokeh.index[id];\n",
       "    }\n",
       "\n",
       "    if (server_id !== undefined) {\n",
       "      // Clean up Bokeh references\n",
       "      var cmd = \"from bokeh.io.state import curstate; print(curstate().uuid_to_server['\" + server_id + \"'].get_sessions()[0].document.roots[0]._id)\";\n",
       "      cell.notebook.kernel.execute(cmd, {\n",
       "        iopub: {\n",
       "          output: function(msg) {\n",
       "            var id = msg.content.text.trim();\n",
       "            if (id in Bokeh.index) {\n",
       "              Bokeh.index[id].model.document.clear();\n",
       "              delete Bokeh.index[id];\n",
       "            }\n",
       "          }\n",
       "        }\n",
       "      });\n",
       "      // Destroy server and session\n",
       "      var cmd = \"import bokeh.io.notebook as ion; ion.destroy_server('\" + server_id + \"')\";\n",
       "      cell.notebook.kernel.execute(cmd);\n",
       "    }\n",
       "  }\n",
       "\n",
       "  /**\n",
       "   * Handle when a new output is added\n",
       "   */\n",
       "  function handleAddOutput(event, handle) {\n",
       "    var output_area = handle.output_area;\n",
       "    var output = handle.output;\n",
       "\n",
       "    // limit handleAddOutput to display_data with EXEC_MIME_TYPE content only\n",
       "    if ((output.output_type != \"display_data\") || (!output.data.hasOwnProperty(EXEC_MIME_TYPE))) {\n",
       "      return\n",
       "    }\n",
       "\n",
       "    var toinsert = output_area.element.find(\".\" + CLASS_NAME.split(' ')[0]);\n",
       "\n",
       "    if (output.metadata[EXEC_MIME_TYPE][\"id\"] !== undefined) {\n",
       "      toinsert[toinsert.length - 1].firstChild.textContent = output.data[JS_MIME_TYPE];\n",
       "      // store reference to embed id on output_area\n",
       "      output_area._bokeh_element_id = output.metadata[EXEC_MIME_TYPE][\"id\"];\n",
       "    }\n",
       "    if (output.metadata[EXEC_MIME_TYPE][\"server_id\"] !== undefined) {\n",
       "      var bk_div = document.createElement(\"div\");\n",
       "      bk_div.innerHTML = output.data[HTML_MIME_TYPE];\n",
       "      var script_attrs = bk_div.children[0].attributes;\n",
       "      for (var i = 0; i < script_attrs.length; i++) {\n",
       "        toinsert[toinsert.length - 1].firstChild.setAttribute(script_attrs[i].name, script_attrs[i].value);\n",
       "      }\n",
       "      // store reference to server id on output_area\n",
       "      output_area._bokeh_server_id = output.metadata[EXEC_MIME_TYPE][\"server_id\"];\n",
       "    }\n",
       "  }\n",
       "\n",
       "  function register_renderer(events, OutputArea) {\n",
       "\n",
       "    function append_mime(data, metadata, element) {\n",
       "      // create a DOM node to render to\n",
       "      var toinsert = this.create_output_subarea(\n",
       "        metadata,\n",
       "        CLASS_NAME,\n",
       "        EXEC_MIME_TYPE\n",
       "      );\n",
       "      this.keyboard_manager.register_events(toinsert);\n",
       "      // Render to node\n",
       "      var props = {data: data, metadata: metadata[EXEC_MIME_TYPE]};\n",
       "      render(props, toinsert[toinsert.length - 1]);\n",
       "      element.append(toinsert);\n",
       "      return toinsert\n",
       "    }\n",
       "\n",
       "    /* Handle when an output is cleared or removed */\n",
       "    events.on('clear_output.CodeCell', handleClearOutput);\n",
       "    events.on('delete.Cell', handleClearOutput);\n",
       "\n",
       "    /* Handle when a new output is added */\n",
       "    events.on('output_added.OutputArea', handleAddOutput);\n",
       "\n",
       "    /**\n",
       "     * Register the mime type and append_mime function with output_area\n",
       "     */\n",
       "    OutputArea.prototype.register_mime_type(EXEC_MIME_TYPE, append_mime, {\n",
       "      /* Is output safe? */\n",
       "      safe: true,\n",
       "      /* Index of renderer in `output_area.display_order` */\n",
       "      index: 0\n",
       "    });\n",
       "  }\n",
       "\n",
       "  // register the mime type if in Jupyter Notebook environment and previously unregistered\n",
       "  if (root.Jupyter !== undefined) {\n",
       "    var events = require('base/js/events');\n",
       "    var OutputArea = require('notebook/js/outputarea').OutputArea;\n",
       "\n",
       "    if (OutputArea.prototype.mime_types().indexOf(EXEC_MIME_TYPE) == -1) {\n",
       "      register_renderer(events, OutputArea);\n",
       "    }\n",
       "  }\n",
       "\n",
       "  \n",
       "  if (typeof (root._bokeh_timeout) === \"undefined\" || force === true) {\n",
       "    root._bokeh_timeout = Date.now() + 5000;\n",
       "    root._bokeh_failed_load = false;\n",
       "  }\n",
       "\n",
       "  var NB_LOAD_WARNING = {'data': {'text/html':\n",
       "     \"<div style='background-color: #fdd'>\\n\"+\n",
       "     \"<p>\\n\"+\n",
       "     \"BokehJS does not appear to have successfully loaded. If loading BokehJS from CDN, this \\n\"+\n",
       "     \"may be due to a slow or bad network connection. Possible fixes:\\n\"+\n",
       "     \"</p>\\n\"+\n",
       "     \"<ul>\\n\"+\n",
       "     \"<li>re-rerun `output_notebook()` to attempt to load from CDN again, or</li>\\n\"+\n",
       "     \"<li>use INLINE resources instead, as so:</li>\\n\"+\n",
       "     \"</ul>\\n\"+\n",
       "     \"<code>\\n\"+\n",
       "     \"from bokeh.resources import INLINE\\n\"+\n",
       "     \"output_notebook(resources=INLINE)\\n\"+\n",
       "     \"</code>\\n\"+\n",
       "     \"</div>\"}};\n",
       "\n",
       "  function display_loaded() {\n",
       "    var el = document.getElementById(\"1001\");\n",
       "    if (el != null) {\n",
       "      el.textContent = \"BokehJS is loading...\";\n",
       "    }\n",
       "    if (root.Bokeh !== undefined) {\n",
       "      if (el != null) {\n",
       "        el.textContent = \"BokehJS \" + root.Bokeh.version + \" successfully loaded.\";\n",
       "      }\n",
       "    } else if (Date.now() < root._bokeh_timeout) {\n",
       "      setTimeout(display_loaded, 100)\n",
       "    }\n",
       "  }\n",
       "\n",
       "\n",
       "  function run_callbacks() {\n",
       "    try {\n",
       "      root._bokeh_onload_callbacks.forEach(function(callback) { callback() });\n",
       "    }\n",
       "    finally {\n",
       "      delete root._bokeh_onload_callbacks\n",
       "    }\n",
       "    console.info(\"Bokeh: all callbacks have finished\");\n",
       "  }\n",
       "\n",
       "  function load_libs(js_urls, callback) {\n",
       "    root._bokeh_onload_callbacks.push(callback);\n",
       "    if (root._bokeh_is_loading > 0) {\n",
       "      console.log(\"Bokeh: BokehJS is being loaded, scheduling callback at\", now());\n",
       "      return null;\n",
       "    }\n",
       "    if (js_urls == null || js_urls.length === 0) {\n",
       "      run_callbacks();\n",
       "      return null;\n",
       "    }\n",
       "    console.log(\"Bokeh: BokehJS not loaded, scheduling load and callback at\", now());\n",
       "    root._bokeh_is_loading = js_urls.length;\n",
       "    for (var i = 0; i < js_urls.length; i++) {\n",
       "      var url = js_urls[i];\n",
       "      var s = document.createElement('script');\n",
       "      s.src = url;\n",
       "      s.async = false;\n",
       "      s.onreadystatechange = s.onload = function() {\n",
       "        root._bokeh_is_loading--;\n",
       "        if (root._bokeh_is_loading === 0) {\n",
       "          console.log(\"Bokeh: all BokehJS libraries loaded\");\n",
       "          run_callbacks()\n",
       "        }\n",
       "      };\n",
       "      s.onerror = function() {\n",
       "        console.warn(\"failed to load library \" + url);\n",
       "      };\n",
       "      console.log(\"Bokeh: injecting script tag for BokehJS library: \", url);\n",
       "      document.getElementsByTagName(\"head\")[0].appendChild(s);\n",
       "    }\n",
       "  };var element = document.getElementById(\"1001\");\n",
       "  if (element == null) {\n",
       "    console.log(\"Bokeh: ERROR: autoload.js configured with elementid '1001' but no matching script tag was found. \")\n",
       "    return false;\n",
       "  }\n",
       "\n",
       "  var js_urls = [\"https://cdn.pydata.org/bokeh/release/bokeh-1.0.0.min.js\", \"https://cdn.pydata.org/bokeh/release/bokeh-widgets-1.0.0.min.js\", \"https://cdn.pydata.org/bokeh/release/bokeh-tables-1.0.0.min.js\", \"https://cdn.pydata.org/bokeh/release/bokeh-gl-1.0.0.min.js\"];\n",
       "\n",
       "  var inline_js = [\n",
       "    function(Bokeh) {\n",
       "      Bokeh.set_log_level(\"info\");\n",
       "    },\n",
       "    \n",
       "    function(Bokeh) {\n",
       "      \n",
       "    },\n",
       "    function(Bokeh) {\n",
       "      console.log(\"Bokeh: injecting CSS: https://cdn.pydata.org/bokeh/release/bokeh-1.0.0.min.css\");\n",
       "      Bokeh.embed.inject_css(\"https://cdn.pydata.org/bokeh/release/bokeh-1.0.0.min.css\");\n",
       "      console.log(\"Bokeh: injecting CSS: https://cdn.pydata.org/bokeh/release/bokeh-widgets-1.0.0.min.css\");\n",
       "      Bokeh.embed.inject_css(\"https://cdn.pydata.org/bokeh/release/bokeh-widgets-1.0.0.min.css\");\n",
       "      console.log(\"Bokeh: injecting CSS: https://cdn.pydata.org/bokeh/release/bokeh-tables-1.0.0.min.css\");\n",
       "      Bokeh.embed.inject_css(\"https://cdn.pydata.org/bokeh/release/bokeh-tables-1.0.0.min.css\");\n",
       "    }\n",
       "  ];\n",
       "\n",
       "  function run_inline_js() {\n",
       "    \n",
       "    if ((root.Bokeh !== undefined) || (force === true)) {\n",
       "      for (var i = 0; i < inline_js.length; i++) {\n",
       "        inline_js[i].call(root, root.Bokeh);\n",
       "      }if (force === true) {\n",
       "        display_loaded();\n",
       "      }} else if (Date.now() < root._bokeh_timeout) {\n",
       "      setTimeout(run_inline_js, 100);\n",
       "    } else if (!root._bokeh_failed_load) {\n",
       "      console.log(\"Bokeh: BokehJS failed to load within specified timeout.\");\n",
       "      root._bokeh_failed_load = true;\n",
       "    } else if (force !== true) {\n",
       "      var cell = $(document.getElementById(\"1001\")).parents('.cell').data().cell;\n",
       "      cell.output_area.append_execute_result(NB_LOAD_WARNING)\n",
       "    }\n",
       "\n",
       "  }\n",
       "\n",
       "  if (root._bokeh_is_loading === 0) {\n",
       "    console.log(\"Bokeh: BokehJS loaded, going straight to plotting\");\n",
       "    run_inline_js();\n",
       "  } else {\n",
       "    load_libs(js_urls, function() {\n",
       "      console.log(\"Bokeh: BokehJS plotting callback run at\", now());\n",
       "      run_inline_js();\n",
       "    });\n",
       "  }\n",
       "}(window));"
      ],
      "application/vnd.bokehjs_load.v0+json": "\n(function(root) {\n  function now() {\n    return new Date();\n  }\n\n  var force = true;\n\n  if (typeof (root._bokeh_onload_callbacks) === \"undefined\" || force === true) {\n    root._bokeh_onload_callbacks = [];\n    root._bokeh_is_loading = undefined;\n  }\n\n  \n\n  \n  if (typeof (root._bokeh_timeout) === \"undefined\" || force === true) {\n    root._bokeh_timeout = Date.now() + 5000;\n    root._bokeh_failed_load = false;\n  }\n\n  var NB_LOAD_WARNING = {'data': {'text/html':\n     \"<div style='background-color: #fdd'>\\n\"+\n     \"<p>\\n\"+\n     \"BokehJS does not appear to have successfully loaded. If loading BokehJS from CDN, this \\n\"+\n     \"may be due to a slow or bad network connection. Possible fixes:\\n\"+\n     \"</p>\\n\"+\n     \"<ul>\\n\"+\n     \"<li>re-rerun `output_notebook()` to attempt to load from CDN again, or</li>\\n\"+\n     \"<li>use INLINE resources instead, as so:</li>\\n\"+\n     \"</ul>\\n\"+\n     \"<code>\\n\"+\n     \"from bokeh.resources import INLINE\\n\"+\n     \"output_notebook(resources=INLINE)\\n\"+\n     \"</code>\\n\"+\n     \"</div>\"}};\n\n  function display_loaded() {\n    var el = document.getElementById(\"1001\");\n    if (el != null) {\n      el.textContent = \"BokehJS is loading...\";\n    }\n    if (root.Bokeh !== undefined) {\n      if (el != null) {\n        el.textContent = \"BokehJS \" + root.Bokeh.version + \" successfully loaded.\";\n      }\n    } else if (Date.now() < root._bokeh_timeout) {\n      setTimeout(display_loaded, 100)\n    }\n  }\n\n\n  function run_callbacks() {\n    try {\n      root._bokeh_onload_callbacks.forEach(function(callback) { callback() });\n    }\n    finally {\n      delete root._bokeh_onload_callbacks\n    }\n    console.info(\"Bokeh: all callbacks have finished\");\n  }\n\n  function load_libs(js_urls, callback) {\n    root._bokeh_onload_callbacks.push(callback);\n    if (root._bokeh_is_loading > 0) {\n      console.log(\"Bokeh: BokehJS is being loaded, scheduling callback at\", now());\n      return null;\n    }\n    if (js_urls == null || js_urls.length === 0) {\n      run_callbacks();\n      return null;\n    }\n    console.log(\"Bokeh: BokehJS not loaded, scheduling load and callback at\", now());\n    root._bokeh_is_loading = js_urls.length;\n    for (var i = 0; i < js_urls.length; i++) {\n      var url = js_urls[i];\n      var s = document.createElement('script');\n      s.src = url;\n      s.async = false;\n      s.onreadystatechange = s.onload = function() {\n        root._bokeh_is_loading--;\n        if (root._bokeh_is_loading === 0) {\n          console.log(\"Bokeh: all BokehJS libraries loaded\");\n          run_callbacks()\n        }\n      };\n      s.onerror = function() {\n        console.warn(\"failed to load library \" + url);\n      };\n      console.log(\"Bokeh: injecting script tag for BokehJS library: \", url);\n      document.getElementsByTagName(\"head\")[0].appendChild(s);\n    }\n  };var element = document.getElementById(\"1001\");\n  if (element == null) {\n    console.log(\"Bokeh: ERROR: autoload.js configured with elementid '1001' but no matching script tag was found. \")\n    return false;\n  }\n\n  var js_urls = [\"https://cdn.pydata.org/bokeh/release/bokeh-1.0.0.min.js\", \"https://cdn.pydata.org/bokeh/release/bokeh-widgets-1.0.0.min.js\", \"https://cdn.pydata.org/bokeh/release/bokeh-tables-1.0.0.min.js\", \"https://cdn.pydata.org/bokeh/release/bokeh-gl-1.0.0.min.js\"];\n\n  var inline_js = [\n    function(Bokeh) {\n      Bokeh.set_log_level(\"info\");\n    },\n    \n    function(Bokeh) {\n      \n    },\n    function(Bokeh) {\n      console.log(\"Bokeh: injecting CSS: https://cdn.pydata.org/bokeh/release/bokeh-1.0.0.min.css\");\n      Bokeh.embed.inject_css(\"https://cdn.pydata.org/bokeh/release/bokeh-1.0.0.min.css\");\n      console.log(\"Bokeh: injecting CSS: https://cdn.pydata.org/bokeh/release/bokeh-widgets-1.0.0.min.css\");\n      Bokeh.embed.inject_css(\"https://cdn.pydata.org/bokeh/release/bokeh-widgets-1.0.0.min.css\");\n      console.log(\"Bokeh: injecting CSS: https://cdn.pydata.org/bokeh/release/bokeh-tables-1.0.0.min.css\");\n      Bokeh.embed.inject_css(\"https://cdn.pydata.org/bokeh/release/bokeh-tables-1.0.0.min.css\");\n    }\n  ];\n\n  function run_inline_js() {\n    \n    if ((root.Bokeh !== undefined) || (force === true)) {\n      for (var i = 0; i < inline_js.length; i++) {\n        inline_js[i].call(root, root.Bokeh);\n      }if (force === true) {\n        display_loaded();\n      }} else if (Date.now() < root._bokeh_timeout) {\n      setTimeout(run_inline_js, 100);\n    } else if (!root._bokeh_failed_load) {\n      console.log(\"Bokeh: BokehJS failed to load within specified timeout.\");\n      root._bokeh_failed_load = true;\n    } else if (force !== true) {\n      var cell = $(document.getElementById(\"1001\")).parents('.cell').data().cell;\n      cell.output_area.append_execute_result(NB_LOAD_WARNING)\n    }\n\n  }\n\n  if (root._bokeh_is_loading === 0) {\n    console.log(\"Bokeh: BokehJS loaded, going straight to plotting\");\n    run_inline_js();\n  } else {\n    load_libs(js_urls, function() {\n      console.log(\"Bokeh: BokehJS plotting callback run at\", now());\n      run_inline_js();\n    });\n  }\n}(window));"
     },
     "metadata": {},
     "output_type": "display_data"
    }
   ],
   "source": [
    "# Import tools and libraries\n",
    "\n",
    "import numpy as np\n",
    "\n",
    "from bokeh.plotting import figure, show, gridplot\n",
    "from bokeh.palettes import cividis\n",
    "from bokeh.io       import output_notebook\n",
    "output_notebook()\n",
    "\n",
    "from os   import getcwd\n",
    "from glob import glob\n",
    "from sys  import path\n",
    "path.insert(0, MagritteSetupFolder)\n",
    "\n",
    "# Import from MagritteSetupFolder\n",
    "from lineData import LineData, planck, relativeDifference\n",
    "from spheres  import nRays\n",
    "from setup    import setupMagritte\n",
    "from model    import model\n",
    "from build    import compile, execute"
   ]
  },
  {
   "cell_type": "markdown",
   "metadata": {},
   "source": [
    "## 1) Define model"
   ]
  },
  {
   "cell_type": "markdown",
   "metadata": {},
   "source": [
    "Assume a 1D model (i.e. 1 ray) with constant temperature, density and abundances and a linear velocity field, yielding a constant velocity gradient\n",
    "\n",
    "\\begin{align}\n",
    "T(x)     \\ &= \\ cte, \\\\\n",
    "\\rho(x)  \\ &= \\ cte, \\\\\n",
    "n_{i}(x) \\ &= \\ cte, \\\\\n",
    "v(x)     \\ &= \\ v_{\\max} \\ x \\ / \\ L,\n",
    "\\end{align}\n",
    "\n",
    "where $L$ is the total length of the model and $v_{\\max}$ is the maximum speed reached in the model. (Numerical values given below.) We write it in this way to ensure that velocities in the model are always much smaller than $c$, since our equations for Doppler shift are not valid otherwise.\n",
    "\n",
    "There is CMB radiation incoming on both ends of the ray as boundary condition."
   ]
  },
  {
   "cell_type": "code",
   "execution_count": 3,
   "metadata": {
    "scrolled": true
   },
   "outputs": [
    {
     "name": "stdout",
     "output_type": "stream",
     "text": [
      "WARNING : in 1D, nrays is set to 2\n",
      "39\n"
     ]
    },
    {
     "data": {
      "text/plain": [
       "'/home/frederik/MagritteProjects/Lines_1D_LTE/io/18-12-06_17:08:44/'"
      ]
     },
     "execution_count": 3,
     "metadata": {},
     "output_type": "execute_result"
    }
   ],
   "source": [
    "model = model (dim=1)\n",
    "\n",
    "model.ncells = 20\n",
    "\n",
    "dens = 1.0E+12   # [m^-3]\n",
    "abun = 1.0E+4    # [m^-3]\n",
    "temp = 1.0E+02   # [K]\n",
    "dx   = 1.0E5     # [m]\n",
    "bx   = 1.3E0\n",
    "dT   = 0.0E0     # [K]\n",
    "dv   = 5.0E2    # [m/s]\n",
    "\n",
    "model.density     = [dens     for _ in range(model.ncells)]\n",
    "model.abundance   = [abun     for _ in range(model.ncells)]\n",
    "model.temperature = [temp     for _ in range(model.ncells)]\n",
    "\n",
    "#model.x = [dx*i  for i in range(model.ncells)]\n",
    "model.x = [dx*i  for i in range(model.ncells)]\n",
    "model.y = [0.0   for _ in range(model.ncells)]\n",
    "model.z = [0.0   for _ in range(model.ncells)]\n",
    "\n",
    "model.vx = [dv*i for i in range(model.ncells)]\n",
    "model.vy = [0.0  for _ in range(model.ncells)]\n",
    "model.vz = [0.0  for _ in range(model.ncells)]\n",
    "\n",
    "model.boundary = [0, model.ncells-1]\n",
    "\n",
    "model.defineRays (nrays=nRays(nsides=1))\n",
    "\n",
    "model.getNeighborLists ()\n",
    "\n",
    "# Write new model data\n",
    "model.writeInput (ProjectFolder + 'Magritte_files/')\n",
    "\n",
    "# Run setup\n",
    "setupMagritte (projectFolder = ProjectFolder, runName = '')"
   ]
  },
  {
   "cell_type": "code",
   "execution_count": 4,
   "metadata": {
    "code_folding": [
     0
    ]
   },
   "outputs": [
    {
     "data": {
      "text/html": [
       "\n",
       "\n",
       "\n",
       "\n",
       "\n",
       "\n",
       "  <div class=\"bk-root\" id=\"cfe6fc70-ad83-411f-9a39-6d789513a1f2\"></div>\n"
      ]
     },
     "metadata": {},
     "output_type": "display_data"
    },
    {
     "data": {
      "application/javascript": [
       "(function(root) {\n",
       "  function embed_document(root) {\n",
       "    \n",
       "  var docs_json = {\"4ecbaad6-af8c-4475-bf41-ef68e5220e7a\":{\"roots\":{\"references\":[{\"attributes\":{\"children\":[{\"id\":\"1202\",\"type\":\"ToolbarBox\"},{\"id\":\"1200\",\"type\":\"Column\"}]},\"id\":\"1203\",\"type\":\"Column\"},{\"attributes\":{},\"id\":\"1124\",\"type\":\"LinearScale\"},{\"attributes\":{},\"id\":\"1126\",\"type\":\"LinearScale\"},{\"attributes\":{\"axis_label\":\"x [m]\",\"formatter\":{\"id\":\"1191\",\"type\":\"BasicTickFormatter\"},\"plot\":{\"id\":\"1119\",\"subtype\":\"Figure\",\"type\":\"Plot\"},\"ticker\":{\"id\":\"1129\",\"type\":\"BasicTicker\"}},\"id\":\"1128\",\"type\":\"LinearAxis\"},{\"attributes\":{},\"id\":\"1129\",\"type\":\"BasicTicker\"},{\"attributes\":{\"plot\":{\"id\":\"1119\",\"subtype\":\"Figure\",\"type\":\"Plot\"},\"ticker\":{\"id\":\"1129\",\"type\":\"BasicTicker\"}},\"id\":\"1132\",\"type\":\"Grid\"},{\"attributes\":{\"axis_label\":\"velocity_x [m^-3]\",\"formatter\":{\"id\":\"1193\",\"type\":\"BasicTickFormatter\"},\"plot\":{\"id\":\"1119\",\"subtype\":\"Figure\",\"type\":\"Plot\"},\"ticker\":{\"id\":\"1134\",\"type\":\"BasicTicker\"}},\"id\":\"1133\",\"type\":\"LinearAxis\"},{\"attributes\":{},\"id\":\"1134\",\"type\":\"BasicTicker\"},{\"attributes\":{\"dimension\":1,\"plot\":{\"id\":\"1119\",\"subtype\":\"Figure\",\"type\":\"Plot\"},\"ticker\":{\"id\":\"1134\",\"type\":\"BasicTicker\"}},\"id\":\"1137\",\"type\":\"Grid\"},{\"attributes\":{\"line_alpha\":0.1,\"line_color\":\"#1f77b4\",\"x\":{\"field\":\"x\"},\"y\":{\"field\":\"y\"}},\"id\":\"1155\",\"type\":\"Line\"},{\"attributes\":{\"line_color\":\"#1f77b4\",\"x\":{\"field\":\"x\"},\"y\":{\"field\":\"y\"}},\"id\":\"1154\",\"type\":\"Line\"},{\"attributes\":{\"children\":[{\"id\":\"1002\",\"subtype\":\"Figure\",\"type\":\"Plot\"},{\"id\":\"1041\",\"subtype\":\"Figure\",\"type\":\"Plot\"}]},\"id\":\"1178\",\"type\":\"Row\"},{\"attributes\":{\"active_drag\":\"auto\",\"active_inspect\":\"auto\",\"active_multi\":null,\"active_scroll\":\"auto\",\"active_tap\":\"auto\",\"tools\":[{\"id\":\"1138\",\"type\":\"PanTool\"},{\"id\":\"1139\",\"type\":\"WheelZoomTool\"},{\"id\":\"1140\",\"type\":\"BoxZoomTool\"},{\"id\":\"1141\",\"type\":\"SaveTool\"},{\"id\":\"1142\",\"type\":\"ResetTool\"},{\"id\":\"1143\",\"type\":\"HelpTool\"}]},\"id\":\"1144\",\"type\":\"Toolbar\"},{\"attributes\":{},\"id\":\"1138\",\"type\":\"PanTool\"},{\"attributes\":{},\"id\":\"1139\",\"type\":\"WheelZoomTool\"},{\"attributes\":{\"overlay\":{\"id\":\"1146\",\"type\":\"BoxAnnotation\"}},\"id\":\"1140\",\"type\":\"BoxZoomTool\"},{\"attributes\":{},\"id\":\"1141\",\"type\":\"SaveTool\"},{\"attributes\":{},\"id\":\"1142\",\"type\":\"ResetTool\"},{\"attributes\":{},\"id\":\"1143\",\"type\":\"HelpTool\"},{\"attributes\":{\"bottom_units\":\"screen\",\"fill_alpha\":{\"value\":0.5},\"fill_color\":{\"value\":\"lightgrey\"},\"left_units\":\"screen\",\"level\":\"overlay\",\"line_alpha\":{\"value\":1.0},\"line_color\":{\"value\":\"black\"},\"line_dash\":[4,4],\"line_width\":{\"value\":2},\"plot\":null,\"render_mode\":\"css\",\"right_units\":\"screen\",\"top_units\":\"screen\"},\"id\":\"1146\",\"type\":\"BoxAnnotation\"},{\"attributes\":{\"data_source\":{\"id\":\"1153\",\"type\":\"ColumnDataSource\"},\"glyph\":{\"id\":\"1154\",\"type\":\"Line\"},\"hover_glyph\":null,\"muted_glyph\":null,\"nonselection_glyph\":{\"id\":\"1155\",\"type\":\"Line\"},\"selection_glyph\":null,\"view\":{\"id\":\"1157\",\"type\":\"CDSView\"}},\"id\":\"1156\",\"type\":\"GlyphRenderer\"},{\"attributes\":{\"source\":{\"id\":\"1153\",\"type\":\"ColumnDataSource\"}},\"id\":\"1157\",\"type\":\"CDSView\"},{\"attributes\":{\"plot\":null,\"text\":\"\"},\"id\":\"1158\",\"type\":\"Title\"},{\"attributes\":{\"ticker\":null},\"id\":\"1162\",\"type\":\"LogTickFormatter\"},{\"attributes\":{},\"id\":\"1164\",\"type\":\"UnionRenderers\"},{\"attributes\":{},\"id\":\"1165\",\"type\":\"Selection\"},{\"attributes\":{\"ticker\":null},\"id\":\"1172\",\"type\":\"LogTickFormatter\"},{\"attributes\":{},\"id\":\"1174\",\"type\":\"UnionRenderers\"},{\"attributes\":{},\"id\":\"1175\",\"type\":\"Selection\"},{\"attributes\":{\"children\":[{\"id\":\"1080\",\"subtype\":\"Figure\",\"type\":\"Plot\"},{\"id\":\"1119\",\"subtype\":\"Figure\",\"type\":\"Plot\"}]},\"id\":\"1199\",\"type\":\"Row\"},{\"attributes\":{\"plot\":null,\"text\":\"\"},\"id\":\"1179\",\"type\":\"Title\"},{\"attributes\":{},\"id\":\"1181\",\"type\":\"BasicTickFormatter\"},{\"attributes\":{},\"id\":\"1183\",\"type\":\"BasicTickFormatter\"},{\"attributes\":{},\"id\":\"1185\",\"type\":\"UnionRenderers\"},{\"attributes\":{},\"id\":\"1186\",\"type\":\"Selection\"},{\"attributes\":{\"plot\":null,\"text\":\"\"},\"id\":\"1189\",\"type\":\"Title\"},{\"attributes\":{},\"id\":\"1191\",\"type\":\"BasicTickFormatter\"},{\"attributes\":{\"overlay\":{\"id\":\"1068\",\"type\":\"BoxAnnotation\"}},\"id\":\"1062\",\"type\":\"BoxZoomTool\"},{\"attributes\":{},\"id\":\"1193\",\"type\":\"BasicTickFormatter\"},{\"attributes\":{},\"id\":\"1063\",\"type\":\"SaveTool\"},{\"attributes\":{\"line_alpha\":0.1,\"line_color\":\"#1f77b4\",\"x\":{\"field\":\"x\"},\"y\":{\"field\":\"y\"}},\"id\":\"1038\",\"type\":\"Line\"},{\"attributes\":{},\"id\":\"1061\",\"type\":\"WheelZoomTool\"},{\"attributes\":{\"below\":[{\"id\":\"1011\",\"type\":\"LinearAxis\"}],\"left\":[{\"id\":\"1016\",\"type\":\"LogAxis\"}],\"plot_height\":250,\"plot_width\":400,\"renderers\":[{\"id\":\"1011\",\"type\":\"LinearAxis\"},{\"id\":\"1015\",\"type\":\"Grid\"},{\"id\":\"1016\",\"type\":\"LogAxis\"},{\"id\":\"1020\",\"type\":\"Grid\"},{\"id\":\"1029\",\"type\":\"BoxAnnotation\"},{\"id\":\"1039\",\"type\":\"GlyphRenderer\"}],\"title\":{\"id\":\"1158\",\"type\":\"Title\"},\"toolbar\":{\"id\":\"1027\",\"type\":\"Toolbar\"},\"toolbar_location\":null,\"x_range\":{\"id\":\"1003\",\"type\":\"DataRange1d\"},\"x_scale\":{\"id\":\"1007\",\"type\":\"LinearScale\"},\"y_range\":{\"id\":\"1005\",\"type\":\"DataRange1d\"},\"y_scale\":{\"id\":\"1009\",\"type\":\"LogScale\"}},\"id\":\"1002\",\"subtype\":\"Figure\",\"type\":\"Plot\"},{\"attributes\":{},\"id\":\"1195\",\"type\":\"UnionRenderers\"},{\"attributes\":{},\"id\":\"1064\",\"type\":\"ResetTool\"},{\"attributes\":{\"line_alpha\":0.1,\"line_color\":\"#1f77b4\",\"x\":{\"field\":\"x\"},\"y\":{\"field\":\"y\"}},\"id\":\"1077\",\"type\":\"Line\"},{\"attributes\":{},\"id\":\"1046\",\"type\":\"LinearScale\"},{\"attributes\":{},\"id\":\"1196\",\"type\":\"Selection\"},{\"attributes\":{},\"id\":\"1065\",\"type\":\"HelpTool\"},{\"attributes\":{\"callback\":null},\"id\":\"1003\",\"type\":\"DataRange1d\"},{\"attributes\":{\"tools\":[{\"id\":\"1021\",\"type\":\"PanTool\"},{\"id\":\"1022\",\"type\":\"WheelZoomTool\"},{\"id\":\"1023\",\"type\":\"BoxZoomTool\"},{\"id\":\"1024\",\"type\":\"SaveTool\"},{\"id\":\"1025\",\"type\":\"ResetTool\"},{\"id\":\"1026\",\"type\":\"HelpTool\"},{\"id\":\"1060\",\"type\":\"PanTool\"},{\"id\":\"1061\",\"type\":\"WheelZoomTool\"},{\"id\":\"1062\",\"type\":\"BoxZoomTool\"},{\"id\":\"1063\",\"type\":\"SaveTool\"},{\"id\":\"1064\",\"type\":\"ResetTool\"},{\"id\":\"1065\",\"type\":\"HelpTool\"},{\"id\":\"1099\",\"type\":\"PanTool\"},{\"id\":\"1100\",\"type\":\"WheelZoomTool\"},{\"id\":\"1101\",\"type\":\"BoxZoomTool\"},{\"id\":\"1102\",\"type\":\"SaveTool\"},{\"id\":\"1103\",\"type\":\"ResetTool\"},{\"id\":\"1104\",\"type\":\"HelpTool\"},{\"id\":\"1138\",\"type\":\"PanTool\"},{\"id\":\"1139\",\"type\":\"WheelZoomTool\"},{\"id\":\"1140\",\"type\":\"BoxZoomTool\"},{\"id\":\"1141\",\"type\":\"SaveTool\"},{\"id\":\"1142\",\"type\":\"ResetTool\"},{\"id\":\"1143\",\"type\":\"HelpTool\"}]},\"id\":\"1201\",\"type\":\"ProxyToolbar\"},{\"attributes\":{\"callback\":null},\"id\":\"1005\",\"type\":\"DataRange1d\"},{\"attributes\":{\"active_drag\":\"auto\",\"active_inspect\":\"auto\",\"active_multi\":null,\"active_scroll\":\"auto\",\"active_tap\":\"auto\",\"tools\":[{\"id\":\"1060\",\"type\":\"PanTool\"},{\"id\":\"1061\",\"type\":\"WheelZoomTool\"},{\"id\":\"1062\",\"type\":\"BoxZoomTool\"},{\"id\":\"1063\",\"type\":\"SaveTool\"},{\"id\":\"1064\",\"type\":\"ResetTool\"},{\"id\":\"1065\",\"type\":\"HelpTool\"}]},\"id\":\"1066\",\"type\":\"Toolbar\"},{\"attributes\":{\"bottom_units\":\"screen\",\"fill_alpha\":{\"value\":0.5},\"fill_color\":{\"value\":\"lightgrey\"},\"left_units\":\"screen\",\"level\":\"overlay\",\"line_alpha\":{\"value\":1.0},\"line_color\":{\"value\":\"black\"},\"line_dash\":[4,4],\"line_width\":{\"value\":2},\"plot\":null,\"render_mode\":\"css\",\"right_units\":\"screen\",\"top_units\":\"screen\"},\"id\":\"1068\",\"type\":\"BoxAnnotation\"},{\"attributes\":{\"toolbar\":{\"id\":\"1201\",\"type\":\"ProxyToolbar\"},\"toolbar_location\":\"above\"},\"id\":\"1202\",\"type\":\"ToolbarBox\"},{\"attributes\":{},\"id\":\"1007\",\"type\":\"LinearScale\"},{\"attributes\":{\"data_source\":{\"id\":\"1075\",\"type\":\"ColumnDataSource\"},\"glyph\":{\"id\":\"1076\",\"type\":\"Line\"},\"hover_glyph\":null,\"muted_glyph\":null,\"nonselection_glyph\":{\"id\":\"1077\",\"type\":\"Line\"},\"selection_glyph\":null,\"view\":{\"id\":\"1079\",\"type\":\"CDSView\"}},\"id\":\"1078\",\"type\":\"GlyphRenderer\"},{\"attributes\":{},\"id\":\"1009\",\"type\":\"LogScale\"},{\"attributes\":{\"source\":{\"id\":\"1075\",\"type\":\"ColumnDataSource\"}},\"id\":\"1079\",\"type\":\"CDSView\"},{\"attributes\":{\"axis_label\":\"x [m]\",\"formatter\":{\"id\":\"1160\",\"type\":\"BasicTickFormatter\"},\"plot\":{\"id\":\"1002\",\"subtype\":\"Figure\",\"type\":\"Plot\"},\"ticker\":{\"id\":\"1012\",\"type\":\"BasicTicker\"}},\"id\":\"1011\",\"type\":\"LinearAxis\"},{\"attributes\":{\"line_alpha\":0.1,\"line_color\":\"#1f77b4\",\"x\":{\"field\":\"x\"},\"y\":{\"field\":\"y\"}},\"id\":\"1116\",\"type\":\"Line\"},{\"attributes\":{},\"id\":\"1012\",\"type\":\"BasicTicker\"},{\"attributes\":{\"line_color\":\"#1f77b4\",\"x\":{\"field\":\"x\"},\"y\":{\"field\":\"y\"}},\"id\":\"1037\",\"type\":\"Line\"},{\"attributes\":{\"callback\":null},\"id\":\"1081\",\"type\":\"DataRange1d\"},{\"attributes\":{\"plot\":{\"id\":\"1002\",\"subtype\":\"Figure\",\"type\":\"Plot\"},\"ticker\":{\"id\":\"1012\",\"type\":\"BasicTicker\"}},\"id\":\"1015\",\"type\":\"Grid\"},{\"attributes\":{\"callback\":null},\"id\":\"1083\",\"type\":\"DataRange1d\"},{\"attributes\":{\"axis_label\":\"density [m^-3]\",\"formatter\":{\"id\":\"1162\",\"type\":\"LogTickFormatter\"},\"plot\":{\"id\":\"1002\",\"subtype\":\"Figure\",\"type\":\"Plot\"},\"ticker\":{\"id\":\"1017\",\"type\":\"LogTicker\"}},\"id\":\"1016\",\"type\":\"LogAxis\"},{\"attributes\":{},\"id\":\"1085\",\"type\":\"LinearScale\"},{\"attributes\":{\"num_minor_ticks\":10},\"id\":\"1017\",\"type\":\"LogTicker\"},{\"attributes\":{\"plot\":null,\"text\":\"\"},\"id\":\"1168\",\"type\":\"Title\"},{\"attributes\":{},\"id\":\"1087\",\"type\":\"LinearScale\"},{\"attributes\":{\"dimension\":1,\"plot\":{\"id\":\"1002\",\"subtype\":\"Figure\",\"type\":\"Plot\"},\"ticker\":{\"id\":\"1017\",\"type\":\"LogTicker\"}},\"id\":\"1020\",\"type\":\"Grid\"},{\"attributes\":{\"axis_label\":\"x [m]\",\"formatter\":{\"id\":\"1181\",\"type\":\"BasicTickFormatter\"},\"plot\":{\"id\":\"1080\",\"subtype\":\"Figure\",\"type\":\"Plot\"},\"ticker\":{\"id\":\"1090\",\"type\":\"BasicTicker\"}},\"id\":\"1089\",\"type\":\"LinearAxis\"},{\"attributes\":{\"active_drag\":\"auto\",\"active_inspect\":\"auto\",\"active_multi\":null,\"active_scroll\":\"auto\",\"active_tap\":\"auto\",\"tools\":[{\"id\":\"1021\",\"type\":\"PanTool\"},{\"id\":\"1022\",\"type\":\"WheelZoomTool\"},{\"id\":\"1023\",\"type\":\"BoxZoomTool\"},{\"id\":\"1024\",\"type\":\"SaveTool\"},{\"id\":\"1025\",\"type\":\"ResetTool\"},{\"id\":\"1026\",\"type\":\"HelpTool\"}]},\"id\":\"1027\",\"type\":\"Toolbar\"},{\"attributes\":{\"callback\":null},\"id\":\"1044\",\"type\":\"DataRange1d\"},{\"attributes\":{},\"id\":\"1090\",\"type\":\"BasicTicker\"},{\"attributes\":{\"below\":[{\"id\":\"1050\",\"type\":\"LinearAxis\"}],\"left\":[{\"id\":\"1055\",\"type\":\"LogAxis\"}],\"plot_height\":250,\"plot_width\":400,\"renderers\":[{\"id\":\"1050\",\"type\":\"LinearAxis\"},{\"id\":\"1054\",\"type\":\"Grid\"},{\"id\":\"1055\",\"type\":\"LogAxis\"},{\"id\":\"1059\",\"type\":\"Grid\"},{\"id\":\"1068\",\"type\":\"BoxAnnotation\"},{\"id\":\"1078\",\"type\":\"GlyphRenderer\"}],\"title\":{\"id\":\"1168\",\"type\":\"Title\"},\"toolbar\":{\"id\":\"1066\",\"type\":\"Toolbar\"},\"toolbar_location\":null,\"x_range\":{\"id\":\"1042\",\"type\":\"DataRange1d\"},\"x_scale\":{\"id\":\"1046\",\"type\":\"LinearScale\"},\"y_range\":{\"id\":\"1044\",\"type\":\"DataRange1d\"},\"y_scale\":{\"id\":\"1048\",\"type\":\"LogScale\"}},\"id\":\"1041\",\"subtype\":\"Figure\",\"type\":\"Plot\"},{\"attributes\":{\"plot\":{\"id\":\"1080\",\"subtype\":\"Figure\",\"type\":\"Plot\"},\"ticker\":{\"id\":\"1090\",\"type\":\"BasicTicker\"}},\"id\":\"1093\",\"type\":\"Grid\"},{\"attributes\":{\"callback\":null,\"data\":{\"x\":[0.0,100000.0,200000.0,300000.0,400000.0,500000.0,600000.0,700000.0,800000.0,900000.0,1000000.0,1100000.0,1200000.0,1300000.0,1400000.0,1500000.0,1600000.0,1700000.0,1800000.0,1900000.0],\"y\":[1000000000000.0,1000000000000.0,1000000000000.0,1000000000000.0,1000000000000.0,1000000000000.0,1000000000000.0,1000000000000.0,1000000000000.0,1000000000000.0,1000000000000.0,1000000000000.0,1000000000000.0,1000000000000.0,1000000000000.0,1000000000000.0,1000000000000.0,1000000000000.0,1000000000000.0,1000000000000.0]},\"selected\":{\"id\":\"1165\",\"type\":\"Selection\"},\"selection_policy\":{\"id\":\"1164\",\"type\":\"UnionRenderers\"}},\"id\":\"1036\",\"type\":\"ColumnDataSource\"},{\"attributes\":{\"callback\":null},\"id\":\"1042\",\"type\":\"DataRange1d\"},{\"attributes\":{\"axis_label\":\"temperature [K]\",\"formatter\":{\"id\":\"1183\",\"type\":\"BasicTickFormatter\"},\"plot\":{\"id\":\"1080\",\"subtype\":\"Figure\",\"type\":\"Plot\"},\"ticker\":{\"id\":\"1095\",\"type\":\"BasicTicker\"}},\"id\":\"1094\",\"type\":\"LinearAxis\"},{\"attributes\":{},\"id\":\"1021\",\"type\":\"PanTool\"},{\"attributes\":{\"callback\":null,\"data\":{\"x\":[0.0,100000.0,200000.0,300000.0,400000.0,500000.0,600000.0,700000.0,800000.0,900000.0,1000000.0,1100000.0,1200000.0,1300000.0,1400000.0,1500000.0,1600000.0,1700000.0,1800000.0,1900000.0],\"y\":[10000.0,10000.0,10000.0,10000.0,10000.0,10000.0,10000.0,10000.0,10000.0,10000.0,10000.0,10000.0,10000.0,10000.0,10000.0,10000.0,10000.0,10000.0,10000.0,10000.0]},\"selected\":{\"id\":\"1175\",\"type\":\"Selection\"},\"selection_policy\":{\"id\":\"1174\",\"type\":\"UnionRenderers\"}},\"id\":\"1075\",\"type\":\"ColumnDataSource\"},{\"attributes\":{},\"id\":\"1170\",\"type\":\"BasicTickFormatter\"},{\"attributes\":{},\"id\":\"1022\",\"type\":\"WheelZoomTool\"},{\"attributes\":{},\"id\":\"1095\",\"type\":\"BasicTicker\"},{\"attributes\":{\"overlay\":{\"id\":\"1029\",\"type\":\"BoxAnnotation\"}},\"id\":\"1023\",\"type\":\"BoxZoomTool\"},{\"attributes\":{\"dimension\":1,\"plot\":{\"id\":\"1080\",\"subtype\":\"Figure\",\"type\":\"Plot\"},\"ticker\":{\"id\":\"1095\",\"type\":\"BasicTicker\"}},\"id\":\"1098\",\"type\":\"Grid\"},{\"attributes\":{},\"id\":\"1024\",\"type\":\"SaveTool\"},{\"attributes\":{\"line_color\":\"#1f77b4\",\"x\":{\"field\":\"x\"},\"y\":{\"field\":\"y\"}},\"id\":\"1115\",\"type\":\"Line\"},{\"attributes\":{},\"id\":\"1025\",\"type\":\"ResetTool\"},{\"attributes\":{\"below\":[{\"id\":\"1128\",\"type\":\"LinearAxis\"}],\"left\":[{\"id\":\"1133\",\"type\":\"LinearAxis\"}],\"plot_height\":250,\"plot_width\":400,\"renderers\":[{\"id\":\"1128\",\"type\":\"LinearAxis\"},{\"id\":\"1132\",\"type\":\"Grid\"},{\"id\":\"1133\",\"type\":\"LinearAxis\"},{\"id\":\"1137\",\"type\":\"Grid\"},{\"id\":\"1146\",\"type\":\"BoxAnnotation\"},{\"id\":\"1156\",\"type\":\"GlyphRenderer\"}],\"title\":{\"id\":\"1189\",\"type\":\"Title\"},\"toolbar\":{\"id\":\"1144\",\"type\":\"Toolbar\"},\"toolbar_location\":null,\"x_range\":{\"id\":\"1120\",\"type\":\"DataRange1d\"},\"x_scale\":{\"id\":\"1124\",\"type\":\"LinearScale\"},\"y_range\":{\"id\":\"1122\",\"type\":\"DataRange1d\"},\"y_scale\":{\"id\":\"1126\",\"type\":\"LinearScale\"}},\"id\":\"1119\",\"subtype\":\"Figure\",\"type\":\"Plot\"},{\"attributes\":{\"children\":[{\"id\":\"1178\",\"type\":\"Row\"},{\"id\":\"1199\",\"type\":\"Row\"}]},\"id\":\"1200\",\"type\":\"Column\"},{\"attributes\":{},\"id\":\"1026\",\"type\":\"HelpTool\"},{\"attributes\":{\"active_drag\":\"auto\",\"active_inspect\":\"auto\",\"active_multi\":null,\"active_scroll\":\"auto\",\"active_tap\":\"auto\",\"tools\":[{\"id\":\"1099\",\"type\":\"PanTool\"},{\"id\":\"1100\",\"type\":\"WheelZoomTool\"},{\"id\":\"1101\",\"type\":\"BoxZoomTool\"},{\"id\":\"1102\",\"type\":\"SaveTool\"},{\"id\":\"1103\",\"type\":\"ResetTool\"},{\"id\":\"1104\",\"type\":\"HelpTool\"}]},\"id\":\"1105\",\"type\":\"Toolbar\"},{\"attributes\":{},\"id\":\"1099\",\"type\":\"PanTool\"},{\"attributes\":{},\"id\":\"1100\",\"type\":\"WheelZoomTool\"},{\"attributes\":{\"bottom_units\":\"screen\",\"fill_alpha\":{\"value\":0.5},\"fill_color\":{\"value\":\"lightgrey\"},\"left_units\":\"screen\",\"level\":\"overlay\",\"line_alpha\":{\"value\":1.0},\"line_color\":{\"value\":\"black\"},\"line_dash\":[4,4],\"line_width\":{\"value\":2},\"plot\":null,\"render_mode\":\"css\",\"right_units\":\"screen\",\"top_units\":\"screen\"},\"id\":\"1029\",\"type\":\"BoxAnnotation\"},{\"attributes\":{\"overlay\":{\"id\":\"1107\",\"type\":\"BoxAnnotation\"}},\"id\":\"1101\",\"type\":\"BoxZoomTool\"},{\"attributes\":{},\"id\":\"1048\",\"type\":\"LogScale\"},{\"attributes\":{},\"id\":\"1102\",\"type\":\"SaveTool\"},{\"attributes\":{\"data_source\":{\"id\":\"1036\",\"type\":\"ColumnDataSource\"},\"glyph\":{\"id\":\"1037\",\"type\":\"Line\"},\"hover_glyph\":null,\"muted_glyph\":null,\"nonselection_glyph\":{\"id\":\"1038\",\"type\":\"Line\"},\"selection_glyph\":null,\"view\":{\"id\":\"1040\",\"type\":\"CDSView\"}},\"id\":\"1039\",\"type\":\"GlyphRenderer\"},{\"attributes\":{\"axis_label\":\"x [m]\",\"formatter\":{\"id\":\"1170\",\"type\":\"BasicTickFormatter\"},\"plot\":{\"id\":\"1041\",\"subtype\":\"Figure\",\"type\":\"Plot\"},\"ticker\":{\"id\":\"1051\",\"type\":\"BasicTicker\"}},\"id\":\"1050\",\"type\":\"LinearAxis\"},{\"attributes\":{},\"id\":\"1103\",\"type\":\"ResetTool\"},{\"attributes\":{},\"id\":\"1051\",\"type\":\"BasicTicker\"},{\"attributes\":{},\"id\":\"1104\",\"type\":\"HelpTool\"},{\"attributes\":{\"plot\":{\"id\":\"1041\",\"subtype\":\"Figure\",\"type\":\"Plot\"},\"ticker\":{\"id\":\"1051\",\"type\":\"BasicTicker\"}},\"id\":\"1054\",\"type\":\"Grid\"},{\"attributes\":{\"source\":{\"id\":\"1036\",\"type\":\"ColumnDataSource\"}},\"id\":\"1040\",\"type\":\"CDSView\"},{\"attributes\":{\"axis_label\":\"abundance [xm^-3]\",\"formatter\":{\"id\":\"1172\",\"type\":\"LogTickFormatter\"},\"plot\":{\"id\":\"1041\",\"subtype\":\"Figure\",\"type\":\"Plot\"},\"ticker\":{\"id\":\"1056\",\"type\":\"LogTicker\"}},\"id\":\"1055\",\"type\":\"LogAxis\"},{\"attributes\":{\"bottom_units\":\"screen\",\"fill_alpha\":{\"value\":0.5},\"fill_color\":{\"value\":\"lightgrey\"},\"left_units\":\"screen\",\"level\":\"overlay\",\"line_alpha\":{\"value\":1.0},\"line_color\":{\"value\":\"black\"},\"line_dash\":[4,4],\"line_width\":{\"value\":2},\"plot\":null,\"render_mode\":\"css\",\"right_units\":\"screen\",\"top_units\":\"screen\"},\"id\":\"1107\",\"type\":\"BoxAnnotation\"},{\"attributes\":{\"num_minor_ticks\":10},\"id\":\"1056\",\"type\":\"LogTicker\"},{\"attributes\":{\"data_source\":{\"id\":\"1114\",\"type\":\"ColumnDataSource\"},\"glyph\":{\"id\":\"1115\",\"type\":\"Line\"},\"hover_glyph\":null,\"muted_glyph\":null,\"nonselection_glyph\":{\"id\":\"1116\",\"type\":\"Line\"},\"selection_glyph\":null,\"view\":{\"id\":\"1118\",\"type\":\"CDSView\"}},\"id\":\"1117\",\"type\":\"GlyphRenderer\"},{\"attributes\":{\"dimension\":1,\"plot\":{\"id\":\"1041\",\"subtype\":\"Figure\",\"type\":\"Plot\"},\"ticker\":{\"id\":\"1056\",\"type\":\"LogTicker\"}},\"id\":\"1059\",\"type\":\"Grid\"},{\"attributes\":{},\"id\":\"1160\",\"type\":\"BasicTickFormatter\"},{\"attributes\":{\"source\":{\"id\":\"1114\",\"type\":\"ColumnDataSource\"}},\"id\":\"1118\",\"type\":\"CDSView\"},{\"attributes\":{\"line_color\":\"#1f77b4\",\"x\":{\"field\":\"x\"},\"y\":{\"field\":\"y\"}},\"id\":\"1076\",\"type\":\"Line\"},{\"attributes\":{\"below\":[{\"id\":\"1089\",\"type\":\"LinearAxis\"}],\"left\":[{\"id\":\"1094\",\"type\":\"LinearAxis\"}],\"plot_height\":250,\"plot_width\":400,\"renderers\":[{\"id\":\"1089\",\"type\":\"LinearAxis\"},{\"id\":\"1093\",\"type\":\"Grid\"},{\"id\":\"1094\",\"type\":\"LinearAxis\"},{\"id\":\"1098\",\"type\":\"Grid\"},{\"id\":\"1107\",\"type\":\"BoxAnnotation\"},{\"id\":\"1117\",\"type\":\"GlyphRenderer\"}],\"title\":{\"id\":\"1179\",\"type\":\"Title\"},\"toolbar\":{\"id\":\"1105\",\"type\":\"Toolbar\"},\"toolbar_location\":null,\"x_range\":{\"id\":\"1081\",\"type\":\"DataRange1d\"},\"x_scale\":{\"id\":\"1085\",\"type\":\"LinearScale\"},\"y_range\":{\"id\":\"1083\",\"type\":\"DataRange1d\"},\"y_scale\":{\"id\":\"1087\",\"type\":\"LinearScale\"}},\"id\":\"1080\",\"subtype\":\"Figure\",\"type\":\"Plot\"},{\"attributes\":{\"callback\":null,\"data\":{\"x\":[0.0,100000.0,200000.0,300000.0,400000.0,500000.0,600000.0,700000.0,800000.0,900000.0,1000000.0,1100000.0,1200000.0,1300000.0,1400000.0,1500000.0,1600000.0,1700000.0,1800000.0,1900000.0],\"y\":[0.0,500.0,1000.0,1500.0,2000.0,2500.0,3000.0,3500.0,4000.0,4500.0,5000.0,5500.0,6000.0,6500.0,7000.0,7500.0,8000.0,8500.0,9000.0,9500.0]},\"selected\":{\"id\":\"1196\",\"type\":\"Selection\"},\"selection_policy\":{\"id\":\"1195\",\"type\":\"UnionRenderers\"}},\"id\":\"1153\",\"type\":\"ColumnDataSource\"},{\"attributes\":{\"callback\":null,\"data\":{\"x\":[0.0,100000.0,200000.0,300000.0,400000.0,500000.0,600000.0,700000.0,800000.0,900000.0,1000000.0,1100000.0,1200000.0,1300000.0,1400000.0,1500000.0,1600000.0,1700000.0,1800000.0,1900000.0],\"y\":[100.0,100.0,100.0,100.0,100.0,100.0,100.0,100.0,100.0,100.0,100.0,100.0,100.0,100.0,100.0,100.0,100.0,100.0,100.0,100.0]},\"selected\":{\"id\":\"1186\",\"type\":\"Selection\"},\"selection_policy\":{\"id\":\"1185\",\"type\":\"UnionRenderers\"}},\"id\":\"1114\",\"type\":\"ColumnDataSource\"},{\"attributes\":{\"callback\":null},\"id\":\"1120\",\"type\":\"DataRange1d\"},{\"attributes\":{},\"id\":\"1060\",\"type\":\"PanTool\"},{\"attributes\":{\"callback\":null},\"id\":\"1122\",\"type\":\"DataRange1d\"}],\"root_ids\":[\"1203\"]},\"title\":\"Bokeh Application\",\"version\":\"1.0.0\"}};\n",
       "  var render_items = [{\"docid\":\"4ecbaad6-af8c-4475-bf41-ef68e5220e7a\",\"roots\":{\"1203\":\"cfe6fc70-ad83-411f-9a39-6d789513a1f2\"}}];\n",
       "  root.Bokeh.embed.embed_items_notebook(docs_json, render_items);\n",
       "\n",
       "  }\n",
       "  if (root.Bokeh !== undefined) {\n",
       "    embed_document(root);\n",
       "  } else {\n",
       "    var attempts = 0;\n",
       "    var timer = setInterval(function(root) {\n",
       "      if (root.Bokeh !== undefined) {\n",
       "        embed_document(root);\n",
       "        clearInterval(timer);\n",
       "      }\n",
       "      attempts++;\n",
       "      if (attempts > 100) {\n",
       "        console.log(\"Bokeh: ERROR: Unable to run BokehJS code because BokehJS library is missing\");\n",
       "        clearInterval(timer);\n",
       "      }\n",
       "    }, 10, root)\n",
       "  }\n",
       "})(window);"
      ],
      "application/vnd.bokehjs_exec.v0+json": ""
     },
     "metadata": {
      "application/vnd.bokehjs_exec.v0+json": {
       "id": "1203"
      }
     },
     "output_type": "display_data"
    }
   ],
   "source": [
    "# Plot model\n",
    "\n",
    "plot_model_1 = figure (plot_width=400, plot_height=250, y_axis_type='log')\n",
    "plot_model_1.line (model.x, model.density)\n",
    "plot_model_1.xaxis.axis_label = \"x [m]\"\n",
    "plot_model_1.yaxis.axis_label = \"density [m^-3]\"\n",
    "\n",
    "plot_model_2 = figure (plot_width=400, plot_height=250, y_axis_type='log')\n",
    "plot_model_2.line (model.x, model.abundance)\n",
    "plot_model_2.xaxis.axis_label = \"x [m]\"\n",
    "plot_model_2.yaxis.axis_label = \"abundance [xm^-3]\"\n",
    "\n",
    "plot_model_3 = figure(plot_width=400, plot_height=250)\n",
    "plot_model_3.line (model.x, model.temperature)\n",
    "plot_model_3.xaxis.axis_label = \"x [m]\"\n",
    "plot_model_3.yaxis.axis_label = \"temperature [K]\"\n",
    "\n",
    "plot_model_4 = figure(plot_width=400, plot_height=250)\n",
    "plot_model_4.line (model.x, model.vx)\n",
    "plot_model_4.xaxis.axis_label = \"x [m]\"\n",
    "plot_model_4.yaxis.axis_label = \"velocity_x [m^-3]\"\n",
    "\n",
    "plot_model = gridplot ([[plot_model_1, plot_model_2],[plot_model_3, plot_model_4]])\n",
    "\n",
    "show (plot_model)"
   ]
  },
  {
   "cell_type": "markdown",
   "metadata": {},
   "source": [
    "### Compile Magrittte and Run Model "
   ]
  },
  {
   "cell_type": "code",
   "execution_count": 5,
   "metadata": {
    "scrolled": true
   },
   "outputs": [
    {
     "name": "stdout",
     "output_type": "stream",
     "text": [
      "-- Found OpenMP_C: -fopenmp\n",
      "-- Found OpenMP_CXX: -fopenmp\n",
      "-- Found OpenMP_C: -fopenmp\n",
      "-- Found OpenMP_CXX: -fopenmp\n",
      "-- Found OpenMP_C: -fopenmp\n",
      "-- Found OpenMP_CXX: -fopenmp\n",
      "-- Found OpenMP_C: -fopenmp\n",
      "-- Found OpenMP_CXX: -fopenmp\n",
      "-- /opt/intel/compilers_and_libraries_2017.4.196/linux/mpi/intel64/include\n",
      "-- Found OpenMP_C: -fopenmp\n",
      "-- Found OpenMP_CXX: -fopenmp\n",
      "-- Configuring done\n",
      "-- Generating done\n",
      "-- Build files have been written to: /home/frederik/MagritteProjects/Lines_1D_LTE/build\n",
      "[ 11%] Built target _TEST_MAIN\n",
      "[ 14%] Built target _TEST_RT_MAIN\n",
      "[ 14%] Built target _HEALPix\n",
      "Scanning dependencies of target _RADIATIVE_TRANSFER\n",
      "[ 16%] Building CXX object src/RadiativeTransfer/src/CMakeFiles/_RADIATIVE_TRANSFER.dir/frequencies.cpp.o\n",
      "[ 19%] Building CXX object src/RadiativeTransfer/src/CMakeFiles/_RADIATIVE_TRANSFER.dir/lines.cpp.o\n",
      "[ 21%] Building CXX object src/RadiativeTransfer/src/CMakeFiles/_RADIATIVE_TRANSFER.dir/radiation.cpp.o\n",
      "[ 23%] Building CXX object src/RadiativeTransfer/src/CMakeFiles/_RADIATIVE_TRANSFER.dir/raypair.cpp.o\n",
      "[ 26%] Building CXX object src/RadiativeTransfer/src/CMakeFiles/_RADIATIVE_TRANSFER.dir/raydata.cpp.o\n",
      "[ 28%] Building CXX object src/RadiativeTransfer/src/CMakeFiles/_RADIATIVE_TRANSFER.dir/image.cpp.o\n",
      "[ 30%] Linking CXX static library lib_RADIATIVE_TRANSFER.a\n",
      "[ 40%] Built target _RADIATIVE_TRANSFER\n",
      "Scanning dependencies of target _LINES\n",
      "[ 45%] Building CXX object src/CMakeFiles/_LINES.dir/levels.cpp.o\n",
      "[ 45%] Building CXX object src/CMakeFiles/_LINES.dir/linedata.cpp.o\n",
      "[ 47%] Building CXX object src/CMakeFiles/_LINES.dir/acceleration_Ng.cpp.o\n",
      "[ 50%] Building CXX object src/CMakeFiles/_LINES.dir/levels_iteration.cpp.o\n",
      "[ 52%] Linking CXX static library lib_LINES.a\n",
      "[ 52%] Built target _LINES\n",
      "Scanning dependencies of target test_rays.exe\n",
      "[ 54%] Building CXX object src/RadiativeTransfer/tests/CMakeFiles/test_rays.exe.dir/test_rays.cpp.o\n",
      "[ 57%] Linking CXX executable test_heapsort.exe\n",
      "Scanning dependencies of target test_profile.exe\n",
      "Scanning dependencies of target test_frequencies.exe\n",
      "[ 59%] Building CXX object src/RadiativeTransfer/tests/CMakeFiles/test_profile.exe.dir/test_profile.cpp.o\n",
      "[ 61%] Building CXX object src/RadiativeTransfer/tests/CMakeFiles/test_frequencies.exe.dir/test_frequencies.cpp.o\n",
      "[ 64%] Built target test_heapsort.exe\n",
      "Scanning dependencies of target test_cells.exe\n",
      "[ 66%] Building CXX object src/RadiativeTransfer/tests/CMakeFiles/test_cells.exe.dir/test_cells.cpp.o\n",
      "[ 69%] Linking CXX executable test_rays.exe\n",
      "[ 69%] Built target test_rays.exe\n",
      "Scanning dependencies of target test_solve_ray.exe\n",
      "[ 71%] Building CXX object src/RadiativeTransfer/tests/CMakeFiles/test_solve_ray.exe.dir/test_solve_ray.cpp.o\n",
      "[ 73%] Linking CXX executable test_profile.exe\n",
      "[ 73%] Built target test_profile.exe\n",
      "Scanning dependencies of target test_lines.exe\n",
      "[ 76%] Building CXX object src/RadiativeTransfer/tests/CMakeFiles/test_lines.exe.dir/test_lines.cpp.o\n",
      "[ 78%] Linking CXX executable test_cells.exe\n",
      "[ 78%] Built target test_cells.exe\n",
      "[ 80%] Linking CXX executable test_interpolation.exe\n",
      "[ 83%] Built target test_interpolation.exe\n",
      "Scanning dependencies of target example_Lines.exe\n",
      "[ 85%] Building CXX object examples/CMakeFiles/example_Lines.exe.dir/example_Lines.cpp.o\n",
      "[ 88%] Linking CXX executable test_solve_ray.exe\n",
      "[ 90%] Linking CXX executable test_lines.exe\n",
      "[ 90%] Built target test_solve_ray.exe\n",
      "[ 90%] Built target test_lines.exe\n",
      "Scanning dependencies of target example_iteration_LTE.exe\n",
      "[ 92%] Building CXX object examples/CMakeFiles/example_iteration_LTE.exe.dir/example_iteration_LTE.cpp.o\n",
      "[ 95%] Linking CXX executable test_frequencies.exe\n",
      "[ 95%] Built target test_frequencies.exe\n",
      "[ 97%] Linking CXX executable example_iteration_LTE.exe\n",
      "[ 97%] Built target example_iteration_LTE.exe\n",
      "[100%] Linking CXX executable example_Lines.exe\n",
      "[100%] Built target example_Lines.exe\n",
      "WE ARE RUNNING\n",
      "Note: Electron abundance is overwritten to make each cell neutral WARNING : there is no species with symbol HD WARNING : species HD is set to \"dummy\" reference with abundance 0.0 WARNING : there is no species with symbol C WARNING : species C is set to \"dummy\" reference with abundance 0.0 WARNING : there is no species with symbol H WARNING : species H is set to \"dummy\" reference with abundance 0.0 WARNING : there is no species with symbol H2+ WARNING : species H2+ is set to \"dummy\" reference with abundance 0.0 WARNING : there is no species with symbol H3+ WARNING : species H3+ is set to \"dummy\" reference with abundance 0.0 WARNING : there is no species with symbol H3O+ WARNING : species H3O+ is set to \"dummy\" reference with abundance 0.0 WARNING : there is no species with symbol He+ WARNING : species He+ is set to \"dummy\" reference with abundance 0.0 WARNING : there is no species with symbol CO WARNING : species CO is set to \"dummy\" reference with abundance 0.0 Written files: /home/frederik/MagritteProjects/Lines_1D_LTE/io/18-12-06_16:33:53/output/eta_0_0.txt /home/frederik/MagritteProjects/Lines_1D_LTE/io/18-12-06_16:33:53/output/chi_0_0.txt Written files: /home/frederik/MagritteProjects/Lines_1D_LTE/io/18-12-06_16:33:53/output/populations_0_0.txt /home/frederik/MagritteProjects/Lines_1D_LTE/io/18-12-06_16:33:53/output/Jeff_0_0.txt Starting iteration 1 Written files: /home/frederik/MagritteProjects/Lines_1D_LTE/io/18-12-06_16:33:53/output/eta_0_1.txt /home/frederik/MagritteProjects/Lines_1D_LTE/io/18-12-06_16:33:53/output/chi_0_1.txt Written files: /home/frederik/MagritteProjects/Lines_1D_LTE/io/18-12-06_16:33:53/output/populations_0_1.txt /home/frederik/MagritteProjects/Lines_1D_LTE/io/18-12-06_16:33:53/output/Jeff_0_1.txt fraction_not_converged = 1 Converged after 1 iterations\n",
      "We are here...\n"
     ]
    }
   ],
   "source": [
    "compile (MagritteSetupFolder, ProjectFolder)\n",
    "execute (MagritteSetupFolder, ProjectFolder)"
   ]
  },
  {
   "cell_type": "markdown",
   "metadata": {},
   "source": [
    "## 2) Get Magritte output"
   ]
  },
  {
   "cell_type": "code",
   "execution_count": 5,
   "metadata": {
    "code_folding": [
     0
    ],
    "scrolled": true
   },
   "outputs": [],
   "source": [
    "# Get Magritte data\n",
    "\n",
    "ioFolders = glob(ProjectFolder + 'io/*/')\n",
    "ioFolders.sort()\n",
    "\n",
    "inputFolders  = [folder +  'input/' for folder in ioFolders]\n",
    "outputFolders = [folder + 'output/' for folder in ioFolders]\n",
    "\n",
    "lastOutput = outputFolders[-1]\n",
    "lastInput  =  inputFolders[-1]\n",
    "\n",
    "pops_files = glob(lastOutput + 'populations_0*.txt')\n",
    "Jeff_files = glob(lastOutput + 'Jeff_0*.txt')\n",
    "J_files    = glob(lastOutput + 'J_*.txt')\n",
    "G_files    = glob(lastOutput + 'G_*.txt')\n",
    "nu_files   = glob(lastOutput + 'frequencies_nu*.txt')\n",
    "lnr_files  = glob(lastOutput + 'frequencies_line_nr*.txt')\n",
    "eta_files  = glob(lastOutput + 'eta_0*.txt')\n",
    "chi_files  = glob(lastOutput + 'chi_0*.txt')\n",
    "\n",
    "pops_files.sort()\n",
    "Jeff_files.sort()\n",
    "eta_files.sort()\n",
    "chi_files.sort()\n",
    "\n",
    "pops_data = [np.loadtxt(fileName) for fileName in pops_files]\n",
    "Jeff_data = [np.loadtxt(fileName) for fileName in Jeff_files]\n",
    "J_data    = [np.loadtxt(fileName) for fileName in J_files]\n",
    "G_data    = [np.loadtxt(fileName) for fileName in G_files]\n",
    "nu_data   = [np.loadtxt(fileName) for fileName in nu_files]\n",
    "lnr_data  = [np.loadtxt(fileName) for fileName in lnr_files]\n",
    "eta_data  = [np.loadtxt(fileName) for fileName in eta_files]\n",
    "chi_data  = [np.loadtxt(fileName) for fileName in chi_files]\n",
    "\n",
    "# Import linedata\n",
    "lineData = LineData (ProjectFolder + '/Magritte_files/linedata/hco+.dat')"
   ]
  },
  {
   "cell_type": "markdown",
   "metadata": {},
   "source": [
    "### 2.1) Plot output"
   ]
  },
  {
   "cell_type": "code",
   "execution_count": 6,
   "metadata": {
    "code_folding": [
     0
    ]
   },
   "outputs": [],
   "source": [
    "# Plot functions\n",
    "\n",
    "def color(s):\n",
    "    ns = int((s_max-s_min) / s_step + 1)\n",
    "    es = int((s    -s_min) / s_step)\n",
    "    return cividis(ns)[es]\n",
    "\n",
    "def legend(s):\n",
    "    return f'{s}'\n",
    "\n",
    "def bokeh_log_plot(title, x, y, xlabel, ylabel):\n",
    "    return"
   ]
  },
  {
   "cell_type": "code",
   "execution_count": 7,
   "metadata": {},
   "outputs": [],
   "source": [
    "s_min  = 0\n",
    "s_max  = model.ncells\n",
    "s_step = 1"
   ]
  },
  {
   "cell_type": "code",
   "execution_count": 8,
   "metadata": {
    "code_folding": [
     0
    ]
   },
   "outputs": [
    {
     "ename": "IndexError",
     "evalue": "list index out of range",
     "output_type": "error",
     "traceback": [
      "\u001b[0;31m---------------------------------------------------------------------------\u001b[0m",
      "\u001b[0;31mIndexError\u001b[0m                                Traceback (most recent call last)",
      "\u001b[0;32m<ipython-input-8-7d0f53e512e2>\u001b[0m in \u001b[0;36m<module>\u001b[0;34m\u001b[0m\n\u001b[1;32m      4\u001b[0m \u001b[0;32mfor\u001b[0m \u001b[0ms\u001b[0m \u001b[0;32min\u001b[0m \u001b[0mrange\u001b[0m\u001b[0;34m(\u001b[0m\u001b[0ms_min\u001b[0m\u001b[0;34m,\u001b[0m \u001b[0ms_max\u001b[0m\u001b[0;34m,\u001b[0m \u001b[0ms_step\u001b[0m\u001b[0;34m)\u001b[0m\u001b[0;34m:\u001b[0m\u001b[0;34m\u001b[0m\u001b[0m\n\u001b[1;32m      5\u001b[0m     \u001b[0mx\u001b[0m \u001b[0;34m=\u001b[0m \u001b[0mrange\u001b[0m\u001b[0;34m(\u001b[0m\u001b[0mlineData\u001b[0m\u001b[0;34m.\u001b[0m\u001b[0mnlev\u001b[0m\u001b[0;34m)\u001b[0m\u001b[0;34m\u001b[0m\u001b[0m\n\u001b[0;32m----> 6\u001b[0;31m     \u001b[0my\u001b[0m \u001b[0;34m=\u001b[0m \u001b[0mpops_data\u001b[0m\u001b[0;34m[\u001b[0m\u001b[0;36m0\u001b[0m\u001b[0;34m]\u001b[0m\u001b[0;34m[\u001b[0m\u001b[0ms\u001b[0m\u001b[0;34m]\u001b[0m\u001b[0;34m\u001b[0m\u001b[0m\n\u001b[0m\u001b[1;32m      7\u001b[0m     \u001b[0mplot\u001b[0m\u001b[0;34m.\u001b[0m\u001b[0mline\u001b[0m \u001b[0;34m(\u001b[0m\u001b[0mx\u001b[0m\u001b[0;34m,\u001b[0m \u001b[0my\u001b[0m\u001b[0;34m,\u001b[0m \u001b[0mcolor\u001b[0m\u001b[0;34m=\u001b[0m\u001b[0mcolor\u001b[0m\u001b[0;34m(\u001b[0m\u001b[0ms\u001b[0m\u001b[0;34m)\u001b[0m\u001b[0;34m,\u001b[0m \u001b[0mlegend\u001b[0m\u001b[0;34m=\u001b[0m\u001b[0mlegend\u001b[0m\u001b[0;34m(\u001b[0m\u001b[0ms\u001b[0m\u001b[0;34m)\u001b[0m\u001b[0;34m)\u001b[0m\u001b[0;34m\u001b[0m\u001b[0m\n\u001b[1;32m      8\u001b[0m \u001b[0mplot\u001b[0m\u001b[0;34m.\u001b[0m\u001b[0mxaxis\u001b[0m\u001b[0;34m.\u001b[0m\u001b[0maxis_label\u001b[0m \u001b[0;34m=\u001b[0m \u001b[0;34m\"number of the level\"\u001b[0m\u001b[0;34m\u001b[0m\u001b[0m\n",
      "\u001b[0;31mIndexError\u001b[0m: list index out of range"
     ]
    }
   ],
   "source": [
    "# Level populations\n",
    "\n",
    "plot = figure (title='Level populations', width=700, height=400, y_axis_type='log')\n",
    "for s in range(s_min, s_max, s_step):\n",
    "    x = range(lineData.nlev)\n",
    "    y = pops_data[0][s]\n",
    "    plot.line (x, y, color=color(s), legend=legend(s))\n",
    "plot.xaxis.axis_label = \"number of the level\"\n",
    "plot.yaxis.axis_label = \"population [m^-3]\"\n",
    "show (plot)"
   ]
  },
  {
   "cell_type": "code",
   "execution_count": 9,
   "metadata": {
    "code_folding": [
     0
    ]
   },
   "outputs": [
    {
     "ename": "IndexError",
     "evalue": "list index out of range",
     "output_type": "error",
     "traceback": [
      "\u001b[0;31m---------------------------------------------------------------------------\u001b[0m",
      "\u001b[0;31mIndexError\u001b[0m                                Traceback (most recent call last)",
      "\u001b[0;32m<ipython-input-9-4957243dccd4>\u001b[0m in \u001b[0;36m<module>\u001b[0;34m\u001b[0m\n\u001b[1;32m      4\u001b[0m \u001b[0;32mfor\u001b[0m \u001b[0ms\u001b[0m \u001b[0;32min\u001b[0m \u001b[0mrange\u001b[0m\u001b[0;34m(\u001b[0m\u001b[0ms_min\u001b[0m\u001b[0;34m,\u001b[0m \u001b[0ms_max\u001b[0m\u001b[0;34m,\u001b[0m \u001b[0ms_step\u001b[0m\u001b[0;34m)\u001b[0m\u001b[0;34m:\u001b[0m\u001b[0;34m\u001b[0m\u001b[0m\n\u001b[1;32m      5\u001b[0m     \u001b[0mx\u001b[0m \u001b[0;34m=\u001b[0m \u001b[0mrange\u001b[0m\u001b[0;34m(\u001b[0m\u001b[0mlineData\u001b[0m\u001b[0;34m.\u001b[0m\u001b[0mnrad\u001b[0m\u001b[0;34m)\u001b[0m\u001b[0;34m\u001b[0m\u001b[0m\n\u001b[0;32m----> 6\u001b[0;31m     \u001b[0my\u001b[0m \u001b[0;34m=\u001b[0m \u001b[0mJeff_data\u001b[0m\u001b[0;34m[\u001b[0m\u001b[0;36m1\u001b[0m\u001b[0;34m]\u001b[0m\u001b[0;34m[\u001b[0m\u001b[0ms\u001b[0m\u001b[0;34m]\u001b[0m\u001b[0;34m\u001b[0m\u001b[0m\n\u001b[0m\u001b[1;32m      7\u001b[0m     \u001b[0mplot\u001b[0m\u001b[0;34m.\u001b[0m\u001b[0mline\u001b[0m\u001b[0;34m(\u001b[0m\u001b[0mx\u001b[0m\u001b[0;34m,\u001b[0m \u001b[0my\u001b[0m\u001b[0;34m,\u001b[0m \u001b[0mcolor\u001b[0m\u001b[0;34m=\u001b[0m\u001b[0mcolor\u001b[0m\u001b[0;34m(\u001b[0m\u001b[0ms\u001b[0m\u001b[0;34m)\u001b[0m\u001b[0;34m,\u001b[0m \u001b[0mlegend\u001b[0m\u001b[0;34m=\u001b[0m\u001b[0mlegend\u001b[0m\u001b[0;34m(\u001b[0m\u001b[0ms\u001b[0m\u001b[0;34m)\u001b[0m\u001b[0;34m)\u001b[0m\u001b[0;34m\u001b[0m\u001b[0m\n\u001b[1;32m      8\u001b[0m \u001b[0mplot\u001b[0m\u001b[0;34m.\u001b[0m\u001b[0mxaxis\u001b[0m\u001b[0;34m.\u001b[0m\u001b[0maxis_label\u001b[0m \u001b[0;34m=\u001b[0m \u001b[0;34m\"number of the transition\"\u001b[0m\u001b[0;34m\u001b[0m\u001b[0m\n",
      "\u001b[0;31mIndexError\u001b[0m: list index out of range"
     ]
    }
   ],
   "source": [
    "# Mean intensity\n",
    "\n",
    "plot = figure (title='Total mean intensity', width=700, height=400, y_axis_type='log')\n",
    "for s in range(s_min, s_max, s_step):\n",
    "    x = range(lineData.nrad)\n",
    "    y = Jeff_data[1][s]\n",
    "    plot.line(x, y, color=color(s), legend=legend(s))\n",
    "plot.xaxis.axis_label = \"number of the transition\"\n",
    "plot.yaxis.axis_label = \"mean intensity J [m^-3]\"\n",
    "show(plot)"
   ]
  },
  {
   "cell_type": "code",
   "execution_count": 10,
   "metadata": {
    "code_folding": [
     0
    ]
   },
   "outputs": [
    {
     "ename": "IndexError",
     "evalue": "list index out of range",
     "output_type": "error",
     "traceback": [
      "\u001b[0;31m---------------------------------------------------------------------------\u001b[0m",
      "\u001b[0;31mIndexError\u001b[0m                                Traceback (most recent call last)",
      "\u001b[0;32m<ipython-input-10-7c5716a1d2e6>\u001b[0m in \u001b[0;36m<module>\u001b[0;34m\u001b[0m\n\u001b[1;32m      3\u001b[0m \u001b[0mplot\u001b[0m \u001b[0;34m=\u001b[0m \u001b[0mfigure\u001b[0m \u001b[0;34m(\u001b[0m\u001b[0mtitle\u001b[0m\u001b[0;34m=\u001b[0m\u001b[0;34m'Spectrum'\u001b[0m\u001b[0;34m,\u001b[0m \u001b[0mwidth\u001b[0m\u001b[0;34m=\u001b[0m\u001b[0;36m700\u001b[0m\u001b[0;34m,\u001b[0m \u001b[0mheight\u001b[0m\u001b[0;34m=\u001b[0m\u001b[0;36m500\u001b[0m\u001b[0;34m,\u001b[0m \u001b[0my_axis_type\u001b[0m\u001b[0;34m=\u001b[0m\u001b[0;34m'log'\u001b[0m\u001b[0;34m)\u001b[0m\u001b[0;34m\u001b[0m\u001b[0m\n\u001b[1;32m      4\u001b[0m \u001b[0;32mfor\u001b[0m \u001b[0ms\u001b[0m \u001b[0;32min\u001b[0m \u001b[0mrange\u001b[0m\u001b[0;34m(\u001b[0m\u001b[0ms_min\u001b[0m\u001b[0;34m,\u001b[0m \u001b[0ms_max\u001b[0m\u001b[0;34m,\u001b[0m \u001b[0ms_step\u001b[0m\u001b[0;34m)\u001b[0m\u001b[0;34m:\u001b[0m\u001b[0;34m\u001b[0m\u001b[0m\n\u001b[0;32m----> 5\u001b[0;31m     \u001b[0mx\u001b[0m \u001b[0;34m=\u001b[0m \u001b[0mnu_data\u001b[0m\u001b[0;34m[\u001b[0m\u001b[0;36m0\u001b[0m\u001b[0;34m]\u001b[0m\u001b[0;34m[\u001b[0m\u001b[0ms\u001b[0m\u001b[0;34m]\u001b[0m\u001b[0;34m\u001b[0m\u001b[0m\n\u001b[0m\u001b[1;32m      6\u001b[0m     \u001b[0my\u001b[0m \u001b[0;34m=\u001b[0m  \u001b[0mJ_data\u001b[0m\u001b[0;34m[\u001b[0m\u001b[0;36m0\u001b[0m\u001b[0;34m]\u001b[0m\u001b[0;34m[\u001b[0m\u001b[0ms\u001b[0m\u001b[0;34m]\u001b[0m\u001b[0;34m\u001b[0m\u001b[0m\n\u001b[1;32m      7\u001b[0m     \u001b[0mplot\u001b[0m\u001b[0;34m.\u001b[0m\u001b[0mline\u001b[0m\u001b[0;34m(\u001b[0m\u001b[0mx\u001b[0m\u001b[0;34m,\u001b[0m \u001b[0my\u001b[0m\u001b[0;34m,\u001b[0m \u001b[0mcolor\u001b[0m\u001b[0;34m=\u001b[0m\u001b[0mcolor\u001b[0m\u001b[0;34m(\u001b[0m\u001b[0ms\u001b[0m\u001b[0;34m)\u001b[0m\u001b[0;34m,\u001b[0m \u001b[0mlegend\u001b[0m\u001b[0;34m=\u001b[0m\u001b[0mlegend\u001b[0m\u001b[0;34m(\u001b[0m\u001b[0ms\u001b[0m\u001b[0;34m)\u001b[0m\u001b[0;34m)\u001b[0m\u001b[0;34m\u001b[0m\u001b[0m\n",
      "\u001b[0;31mIndexError\u001b[0m: list index out of range"
     ]
    }
   ],
   "source": [
    "# Spectrum\n",
    "\n",
    "plot = figure (title='Spectrum', width=700, height=500, y_axis_type='log')\n",
    "for s in range(s_min, s_max, s_step):\n",
    "    x = nu_data[0][s]\n",
    "    y =  J_data[0][s]\n",
    "    plot.line(x, y, color=color(s), legend=legend(s))\n",
    "plot.xaxis.axis_label = \"frequencies [Hz]\"\n",
    "plot.yaxis.axis_label = \"Mean intensity [W/m^2]\"\n",
    "show(plot)"
   ]
  },
  {
   "cell_type": "code",
   "execution_count": null,
   "metadata": {
    "code_folding": [
     0
    ]
   },
   "outputs": [],
   "source": [
    "# Flux (G) spectrum\n",
    "\n",
    "plot = figure (title='Spectrum', width=700, height=500)\n",
    "for s in range(s_min, s_max, s_step):\n",
    "    x = nu_data[0][s]\n",
    "    y =  G_data[0][s]\n",
    "    plot.line(x, y, color=color(s), legend=legend(s))\n",
    "plot.xaxis.axis_label = \"frequencies [Hz]\"\n",
    "plot.yaxis.axis_label = \"Mean intensity [W/m^2]\"\n",
    "show(plot)"
   ]
  },
  {
   "cell_type": "markdown",
   "metadata": {},
   "source": [
    "## 3) Analytical solution"
   ]
  },
  {
   "cell_type": "markdown",
   "metadata": {},
   "source": [
    "Assuming a constant source function $S_{\\nu}(x)=S_{\\nu}$ along the ray and boundary condition $B_{\\nu}$ on both sides of the ray, the mean intensity is given by\n",
    "\n",
    "\\begin{align}\n",
    "    J_{\\nu}(\\tau(x)) \\ &= \\ S_{\\nu} \\ + \\ \\frac{1}{2} \\ \\left(B_{\\nu}-S_{\\nu}\\right) \\ \\left[e^{-\\tau_{\\nu}(x)} + e^{-\\tau_{\\nu}(L-x)}\\right], \\\\\n",
    "    G_{\\nu}(\\tau(x)) \\ &= \\ \\color{white}S_{\\color{white}\\nu} \\ - \\ \\frac{1}{2} \\ \\left(B_{\\nu}-S_{\\nu}\\right) \\ \\left[e^{-\\tau_{\\nu}(x)} - e^{-\\tau_{\\nu}(L-x)}\\right],\n",
    "\\end{align}\n",
    "\n",
    "where the optical depth $\\tau_{\\nu}$ is given by\n",
    "\n",
    "\\begin{equation}\n",
    "    \\tau_{\\nu}(\\ell) \\ = \\ \\int_{0}^{\\ell} \\text{d} l \\ \\chi_{\\nu}(l) .\n",
    "\\end{equation}\n",
    "\n",
    "The frequency dependence of the opacity only comes from the line profile\n",
    "\n",
    "\\begin{equation}\n",
    "    \\chi_{\\nu}(x) \\ = \\ \\chi_{ij} \\phi_{\\nu},\n",
    "\\end{equation}\n",
    "\n",
    "where we assume a Gaussian profile\n",
    "\n",
    "\\begin{equation}\n",
    "\t\\phi_{\\nu}^{ij}(x) \\ = \\ \\frac{1}{\\sqrt{\\pi} \\ \\delta\\nu_{ij}} \\ \\exp \\left[-\\left(\\frac{\\nu-\\nu_{ij}} {\\delta\\nu_{ij}(x)}\\right)^{2}\\right], \\hspace{5mm} \\text{where} \\hspace{5mm} \\delta\\nu_{ij}(x) \\ = \\ \\frac{\\nu_{ij}}{c} \\sqrt{ \\frac{2 k_{b} T(x)}{m_{\\text{spec}}} \\ + \\ v_{\\text{turb}}^{2}(x)}.\n",
    "\\end{equation}\n",
    "\n",
    "To account for the velocity gradient, after a slab of length $\\ell$, the frequency shifts as\n",
    "\n",
    "\\begin{equation}\n",
    "    \\nu \\ \\rightarrow \\ \\left( 1 - \\frac{v_{\\max} \\ell}{c L} \\right) \\nu.\n",
    "\\end{equation}\n",
    "\n",
    "Solving the integral for the optical depth then yields\n",
    "\n",
    "\\begin{equation}\n",
    "  \\tau_{\\nu}(\\ell) \\ = \\ \\frac{\\chi L}{\\nu} \\ \\frac{c}{v_{\\max}}  \\ \\frac{1}{2} \\left\\{ \\text{Erf}\\left[\\frac{\\nu-\\nu_{ij}}{\\delta\\nu_{ij}}\\right] \\ + \\ \\text{Erf}\\left[\\frac{v_{\\max}}{c} \\frac{\\nu}{\\delta\\nu_{ij}}\\frac{\\ell}{L} - \\frac{\\nu-\\nu_{ij}}{\\delta\\nu_{ij}}\\right] \\right\\} .\n",
    "\\end{equation}"
   ]
  },
  {
   "cell_type": "code",
   "execution_count": 11,
   "metadata": {},
   "outputs": [],
   "source": [
    "# Set line\n",
    "line = 15"
   ]
  },
  {
   "cell_type": "code",
   "execution_count": 12,
   "metadata": {
    "code_folding": []
   },
   "outputs": [
    {
     "name": "stdout",
     "output_type": "stream",
     "text": [
      "velocity gradient = 0.005\n",
      "temperature       = 100.0\n"
     ]
    }
   ],
   "source": [
    "# Analytical model\n",
    "\n",
    "from scipy.special import erf\n",
    "\n",
    "c     = 2.99792458E+8    # [m/s] speed of light\n",
    "kb    = 1.38064852E-23   # [J/K] Boltzmann's constant\n",
    "mp    = 1.6726219E-27    # [kg]  proton mass\n",
    "T_CMB = 2.7254800        # [K]   CMB temperature\n",
    "vturb = 0.12012E3        # [m/s] turbulent speed\n",
    "\n",
    "pops       = lineData.LTEpop(temp) * abun\n",
    "emissivity = lineData.lineEmissivity(pops)\n",
    "opacity    = lineData.lineOpacity(pops)\n",
    "source     = emissivity / opacity\n",
    "\n",
    "def bcd (nu):\n",
    "    return planck(T_CMB, nu)\n",
    "\n",
    "S    =  source[line]\n",
    "eta  = emissivity[line]\n",
    "chi  = opacity[line]\n",
    "L    = model.x[-1]\n",
    "vmax = model.vx[-1]\n",
    "nuij = lineData.frequency[line]\n",
    "dnu  = nuij/c * np.sqrt(2.0*kb*temp/mp + vturb**2)\n",
    "\n",
    "print(f'velocity gradient = {vmax/L}')\n",
    "print(f'temperature       = {temp}')\n",
    "\n",
    "def tau(nu, l):\n",
    "    arg = (nu - nuij) / dnu\n",
    "    fct = vmax/c * nu/dnu\n",
    "    return chi*L / (fct*dnu) * 0.5 * (erf(arg) + erf(fct*l/L-arg))\n",
    "\n",
    "def J(nu, x):\n",
    "    tau1 = tau(nu, x)\n",
    "    tau2 = tau(nu, L-x)\n",
    "    B = bcd (nu)\n",
    "    return S + 0.5 * (B-S) * (np.exp(-tau1) + np.exp(-tau2))\n",
    "\n",
    "def G(nu, x):\n",
    "    tau1 = tau(nu, x)\n",
    "    tau2 = tau(nu, L-x)\n",
    "    B = bcd (nu)\n",
    "    return   - 0.5 * (B-S) * (np.exp(-tau1) - np.exp(-tau2))\n",
    "\n",
    "def relativeError(a,b):\n",
    "    return 2.0 * np.abs((a-b)/(a+b))"
   ]
  },
  {
   "cell_type": "code",
   "execution_count": 13,
   "metadata": {
    "code_folding": [
     0
    ],
    "scrolled": false
   },
   "outputs": [
    {
     "ename": "IndexError",
     "evalue": "list index out of range",
     "output_type": "error",
     "traceback": [
      "\u001b[0;31m---------------------------------------------------------------------------\u001b[0m",
      "\u001b[0;31mIndexError\u001b[0m                                Traceback (most recent call last)",
      "\u001b[0;32m<ipython-input-13-ede2e5f93774>\u001b[0m in \u001b[0;36m<module>\u001b[0;34m\u001b[0m\n\u001b[1;32m      3\u001b[0m \u001b[0mplot_model\u001b[0m \u001b[0;34m=\u001b[0m \u001b[0mfigure\u001b[0m\u001b[0;34m(\u001b[0m\u001b[0mtitle\u001b[0m\u001b[0;34m=\u001b[0m\u001b[0;34m'Line model'\u001b[0m\u001b[0;34m,\u001b[0m \u001b[0mwidth\u001b[0m\u001b[0;34m=\u001b[0m\u001b[0;36m400\u001b[0m\u001b[0;34m,\u001b[0m \u001b[0mheight\u001b[0m\u001b[0;34m=\u001b[0m\u001b[0;36m400\u001b[0m\u001b[0;34m,\u001b[0m \u001b[0my_axis_type\u001b[0m\u001b[0;34m=\u001b[0m\u001b[0;34m\"log\"\u001b[0m\u001b[0;34m)\u001b[0m\u001b[0;34m\u001b[0m\u001b[0m\n\u001b[1;32m      4\u001b[0m \u001b[0;32mfor\u001b[0m \u001b[0ms\u001b[0m \u001b[0;32min\u001b[0m \u001b[0mrange\u001b[0m\u001b[0;34m(\u001b[0m\u001b[0ms_min\u001b[0m\u001b[0;34m,\u001b[0m \u001b[0ms_max\u001b[0m\u001b[0;34m,\u001b[0m \u001b[0ms_step\u001b[0m\u001b[0;34m)\u001b[0m\u001b[0;34m:\u001b[0m\u001b[0;34m\u001b[0m\u001b[0m\n\u001b[0;32m----> 5\u001b[0;31m     \u001b[0mM\u001b[0m \u001b[0;34m=\u001b[0m \u001b[0mint\u001b[0m\u001b[0;34m(\u001b[0m\u001b[0mlnr_data\u001b[0m\u001b[0;34m[\u001b[0m\u001b[0;36m0\u001b[0m\u001b[0;34m]\u001b[0m\u001b[0;34m[\u001b[0m\u001b[0ms\u001b[0m\u001b[0;34m]\u001b[0m\u001b[0;34m[\u001b[0m\u001b[0mline\u001b[0m\u001b[0;34m]\u001b[0m \u001b[0;34m-\u001b[0m \u001b[0;36m18\u001b[0m    \u001b[0;34m)\u001b[0m\u001b[0;34m\u001b[0m\u001b[0m\n\u001b[0m\u001b[1;32m      6\u001b[0m     \u001b[0mN\u001b[0m \u001b[0;34m=\u001b[0m \u001b[0mint\u001b[0m\u001b[0;34m(\u001b[0m\u001b[0mlnr_data\u001b[0m\u001b[0;34m[\u001b[0m\u001b[0;36m0\u001b[0m\u001b[0;34m]\u001b[0m\u001b[0;34m[\u001b[0m\u001b[0ms\u001b[0m\u001b[0;34m]\u001b[0m\u001b[0;34m[\u001b[0m\u001b[0mline\u001b[0m\u001b[0;34m]\u001b[0m \u001b[0;34m+\u001b[0m \u001b[0;36m18\u001b[0m \u001b[0;34m+\u001b[0m \u001b[0;36m1\u001b[0m\u001b[0;34m)\u001b[0m\u001b[0;34m\u001b[0m\u001b[0m\n\u001b[1;32m      7\u001b[0m     \u001b[0;31m# model\u001b[0m\u001b[0;34m\u001b[0m\u001b[0;34m\u001b[0m\u001b[0m\n",
      "\u001b[0;31mIndexError\u001b[0m: list index out of range"
     ]
    }
   ],
   "source": [
    "# Line\n",
    "\n",
    "plot_model = figure(title='Line model', width=400, height=400, y_axis_type=\"log\")\n",
    "for s in range(s_min, s_max, s_step):\n",
    "    M = int(lnr_data[0][s][line] - 18    )\n",
    "    N = int(lnr_data[0][s][line] + 18 + 1)\n",
    "    # model\n",
    "    x = nuij + 18 * dnu * np.linspace(-1,1,500)\n",
    "    y = J(x, model.x[s])\n",
    "    plot_model.line(x, y, color=color(s))\n",
    "    # data\n",
    "    x = nu_data[0][s][M:N]\n",
    "    y =  J_data[0][s][M:N]\n",
    "    plot_model.circle(x, y, color=color(s), legend=legend(s))\n",
    "\n",
    "plot_error = figure(title='Line error', width=400, height=400, y_axis_type=\"log\")\n",
    "for s in range(s_min, s_max, s_step):\n",
    "    M = int(lnr_data[0][s][line] - 18    )\n",
    "    N = int(lnr_data[0][s][line] + 18 + 1)\n",
    "    # error\n",
    "    x = nu_data[0][s][M:N]\n",
    "    y = relativeError(J(x, model.x[s]), J_data[0][s][M:N])\n",
    "    plot_error.circle(x, y, color=color(s), legend=legend(s))\n",
    "\n",
    "plot = gridplot([[plot_model, plot_error]])\n",
    "\n",
    "show(plot)"
   ]
  },
  {
   "cell_type": "code",
   "execution_count": 14,
   "metadata": {
    "code_folding": [
     0
    ],
    "scrolled": false
   },
   "outputs": [
    {
     "ename": "IndexError",
     "evalue": "list index out of range",
     "output_type": "error",
     "traceback": [
      "\u001b[0;31m---------------------------------------------------------------------------\u001b[0m",
      "\u001b[0;31mIndexError\u001b[0m                                Traceback (most recent call last)",
      "\u001b[0;32m<ipython-input-14-fc792c59a8ee>\u001b[0m in \u001b[0;36m<module>\u001b[0;34m\u001b[0m\n\u001b[1;32m      3\u001b[0m \u001b[0mplot_model\u001b[0m \u001b[0;34m=\u001b[0m \u001b[0mfigure\u001b[0m\u001b[0;34m(\u001b[0m\u001b[0mtitle\u001b[0m\u001b[0;34m=\u001b[0m\u001b[0;34m'Line model'\u001b[0m\u001b[0;34m,\u001b[0m \u001b[0mwidth\u001b[0m\u001b[0;34m=\u001b[0m\u001b[0;36m400\u001b[0m\u001b[0;34m,\u001b[0m \u001b[0mheight\u001b[0m\u001b[0;34m=\u001b[0m\u001b[0;36m400\u001b[0m\u001b[0;34m)\u001b[0m\u001b[0;34m\u001b[0m\u001b[0m\n\u001b[1;32m      4\u001b[0m \u001b[0;32mfor\u001b[0m \u001b[0ms\u001b[0m \u001b[0;32min\u001b[0m \u001b[0mrange\u001b[0m\u001b[0;34m(\u001b[0m\u001b[0ms_min\u001b[0m\u001b[0;34m,\u001b[0m \u001b[0ms_max\u001b[0m\u001b[0;34m,\u001b[0m \u001b[0ms_step\u001b[0m\u001b[0;34m)\u001b[0m\u001b[0;34m:\u001b[0m\u001b[0;34m\u001b[0m\u001b[0m\n\u001b[0;32m----> 5\u001b[0;31m     \u001b[0mM\u001b[0m \u001b[0;34m=\u001b[0m \u001b[0mint\u001b[0m\u001b[0;34m(\u001b[0m\u001b[0mlnr_data\u001b[0m\u001b[0;34m[\u001b[0m\u001b[0;36m0\u001b[0m\u001b[0;34m]\u001b[0m\u001b[0;34m[\u001b[0m\u001b[0ms\u001b[0m\u001b[0;34m]\u001b[0m\u001b[0;34m[\u001b[0m\u001b[0mline\u001b[0m\u001b[0;34m]\u001b[0m \u001b[0;34m-\u001b[0m \u001b[0;36m18\u001b[0m    \u001b[0;34m)\u001b[0m\u001b[0;34m\u001b[0m\u001b[0m\n\u001b[0m\u001b[1;32m      6\u001b[0m     \u001b[0mN\u001b[0m \u001b[0;34m=\u001b[0m \u001b[0mint\u001b[0m\u001b[0;34m(\u001b[0m\u001b[0mlnr_data\u001b[0m\u001b[0;34m[\u001b[0m\u001b[0;36m0\u001b[0m\u001b[0;34m]\u001b[0m\u001b[0;34m[\u001b[0m\u001b[0ms\u001b[0m\u001b[0;34m]\u001b[0m\u001b[0;34m[\u001b[0m\u001b[0mline\u001b[0m\u001b[0;34m]\u001b[0m \u001b[0;34m+\u001b[0m \u001b[0;36m18\u001b[0m \u001b[0;34m+\u001b[0m \u001b[0;36m1\u001b[0m\u001b[0;34m)\u001b[0m\u001b[0;34m\u001b[0m\u001b[0m\n\u001b[1;32m      7\u001b[0m     \u001b[0;31m# model\u001b[0m\u001b[0;34m\u001b[0m\u001b[0;34m\u001b[0m\u001b[0m\n",
      "\u001b[0;31mIndexError\u001b[0m: list index out of range"
     ]
    }
   ],
   "source": [
    "# Line model\n",
    "\n",
    "plot_model = figure(title='Line model', width=400, height=400)\n",
    "for s in range(s_min, s_max, s_step):\n",
    "    M = int(lnr_data[0][s][line] - 18    )\n",
    "    N = int(lnr_data[0][s][line] + 18 + 1)\n",
    "    # model\n",
    "    x = nuij + 18 * dnu * np.linspace(-1,1,500)\n",
    "    y = G(x, model.x[s])\n",
    "    plot_model.line(x, y, color=color(s))\n",
    "    # data\n",
    "    x = nu_data[0][s][M:N]\n",
    "    y =  G_data[0][s][M:N]\n",
    "    plot_model.circle(x, y, color=color(s), legend=legend(s))\n",
    "\n",
    "plot_error = figure(title='Line error', width=400, height=400, y_axis_type=\"log\")\n",
    "for s in range(s_min, s_max, s_step):\n",
    "    M = int(lnr_data[0][s][line] - 18    )\n",
    "    N = int(lnr_data[0][s][line] + 18 + 1)\n",
    "    # error\n",
    "    x = nu_data[0][s][M:N]\n",
    "    y = relativeError(G(x, model.x[s]), G_data[0][s][M:N])\n",
    "    plot_error.circle(x, y, color=color(s), legend=legend(s))\n",
    "\n",
    "plot = gridplot([[plot_model, plot_error]])\n",
    "\n",
    "show(plot)"
   ]
  },
  {
   "cell_type": "code",
   "execution_count": 15,
   "metadata": {},
   "outputs": [],
   "source": [
    "from os  import getcwd\n",
    "from sys import path\n",
    "path.insert(0, f'{getcwd()}/functions')\n",
    "\n",
    "from functions import test, optical_depth_m, optical_depth_p, mean_intensity"
   ]
  },
  {
   "cell_type": "code",
   "execution_count": 16,
   "metadata": {},
   "outputs": [
    {
     "data": {
      "text/plain": [
       "'/home/frederik/Dropbox/GitHub/LineRadiativeTransfer/functions'"
      ]
     },
     "execution_count": 16,
     "metadata": {},
     "output_type": "execute_result"
    }
   ],
   "source": [
    "f'{getcwd()}/functions'"
   ]
  },
  {
   "cell_type": "code",
   "execution_count": 17,
   "metadata": {},
   "outputs": [
    {
     "data": {
      "text/plain": [
       "5.0"
      ]
     },
     "execution_count": 17,
     "metadata": {},
     "output_type": "execute_result"
    }
   ],
   "source": [
    "from functions import test\n",
    "\n",
    "test(33)"
   ]
  },
  {
   "cell_type": "code",
   "execution_count": 27,
   "metadata": {},
   "outputs": [
    {
     "name": "stdout",
     "output_type": "stream",
     "text": [
      "2.406414061420342e-10\n",
      "2.4056612847720573e-10\n",
      "1.099759694596062e-23\n",
      "1.0996039442958794e-23\n"
     ]
    }
   ],
   "source": [
    "nu  = nuij*1.000001\n",
    "\n",
    "zero = model.x[0]\n",
    "xx   = model.x[5]*2.4565\n",
    "L    = model.x[-1]\n",
    "\n",
    "dx = (L-zero) / 10000\n",
    "\n",
    "print(optical_depth_p (nu, chi, nuij, zero, xx, dx))\n",
    "print(tau(nu, xx-zero))\n",
    "\n",
    "print(bcd(nu) + mean_intensity(nu, eta, chi, nuij, zero, xx, L, dx))\n",
    "print(J(nu, xx))"
   ]
  },
  {
   "cell_type": "code",
   "execution_count": null,
   "metadata": {},
   "outputs": [],
   "source": []
  }
 ],
 "metadata": {
  "kernelspec": {
   "display_name": "Python 3",
   "language": "python",
   "name": "python3"
  },
  "language_info": {
   "codemirror_mode": {
    "name": "ipython",
    "version": 3
   },
   "file_extension": ".py",
   "mimetype": "text/x-python",
   "name": "python",
   "nbconvert_exporter": "python",
   "pygments_lexer": "ipython3",
   "version": "3.6.6"
  }
 },
 "nbformat": 4,
 "nbformat_minor": 2
}
